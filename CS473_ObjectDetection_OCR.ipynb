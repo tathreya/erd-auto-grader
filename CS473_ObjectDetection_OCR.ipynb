{
 "cells": [
  {
   "cell_type": "markdown",
   "metadata": {},
   "source": [
    "## CODE TO TRAIN THE OBJECT DETECTION MODEL"
   ]
  },
  {
   "cell_type": "code",
   "execution_count": null,
   "metadata": {
    "collapsed": true,
    "id": "tENKhzjf39Yn"
   },
   "outputs": [],
   "source": [
    "!pip install ultralytics"
   ]
  },
  {
   "cell_type": "code",
   "execution_count": 2,
   "metadata": {
    "colab": {
     "base_uri": "https://localhost:8080/"
    },
    "executionInfo": {
     "elapsed": 8865,
     "status": "ok",
     "timestamp": 1733424470050,
     "user": {
      "displayName": "Tanay Athreya",
      "userId": "11076033903721853164"
     },
     "user_tz": 300
    },
    "id": "M9YTRLXii0dt",
    "outputId": "a428f209-cd9d-45bc-83cb-06a970edbce1"
   },
   "outputs": [
    {
     "name": "stdout",
     "output_type": "stream",
     "text": [
      "Creating new Ultralytics Settings v0.0.6 file ✅ \n",
      "View Ultralytics Settings with 'yolo settings' or at '/root/.config/Ultralytics/settings.json'\n",
      "Update Settings with 'yolo settings key=value', i.e. 'yolo settings runs_dir=path/to/dir'. For help see https://docs.ultralytics.com/quickstart/#ultralytics-settings.\n"
     ]
    }
   ],
   "source": [
    "\n",
    "from ultralytics import YOLO\n"
   ]
  },
  {
   "cell_type": "code",
   "execution_count": 3,
   "metadata": {
    "colab": {
     "base_uri": "https://localhost:8080/"
    },
    "executionInfo": {
     "elapsed": 15514,
     "status": "ok",
     "timestamp": 1733424485562,
     "user": {
      "displayName": "Tanay Athreya",
      "userId": "11076033903721853164"
     },
     "user_tz": 300
    },
    "id": "N2I-01uJi2aw",
    "outputId": "c1314b4d-78bf-4011-b949-41af5c6a64d6"
   },
   "outputs": [
    {
     "name": "stdout",
     "output_type": "stream",
     "text": [
      "Mounted at /content/drive\n"
     ]
    }
   ],
   "source": [
    "from google.colab import drive\n",
    "drive.mount('/content/drive')\n",
    "\n"
   ]
  },
  {
   "cell_type": "code",
   "execution_count": 4,
   "metadata": {
    "colab": {
     "base_uri": "https://localhost:8080/"
    },
    "executionInfo": {
     "elapsed": 394,
     "status": "ok",
     "timestamp": 1733424491233,
     "user": {
      "displayName": "Tanay Athreya",
      "userId": "11076033903721853164"
     },
     "user_tz": 300
    },
    "id": "KX3VrktcPJih",
    "outputId": "6b6544e2-dcf4-40aa-ff99-6a84331587a0"
   },
   "outputs": [
    {
     "name": "stdout",
     "output_type": "stream",
     "text": [
      " 300_epochs_model_results\t   failing_image_OD_training\n",
      " 300epochs_predictions\t\t   failing_image_retrained_results\n",
      " collection_2\t\t\t   final_predictions\n",
      "'Collection 3'\t\t\t   gradescope_final_results\n",
      "'CS 473 ERD Paper.gdoc'\t\t   gradescope_final_results_retrained\n",
      "'CS 473 ERD Paper.pdf'\t\t   gradescope_predictions_first_model\n",
      " CS473_ObjectDetection_OCR.ipynb   gradescope_predictions_retrained_2nd_model\n",
      " CS473_ObjectDetection.py\t   TA_graded_final\n",
      " CS473_Stage2.ipynb\t\t   test2.v1i.yolov8\n",
      "'CS473 Stage 2 Presentation.mp4'\n"
     ]
    }
   ],
   "source": [
    "!ls \"/content/drive/MyDrive/cs478ModelTraining\""
   ]
  },
  {
   "cell_type": "code",
   "execution_count": 5,
   "metadata": {
    "executionInfo": {
     "elapsed": 180,
     "status": "ok",
     "timestamp": 1733424492884,
     "user": {
      "displayName": "Tanay Athreya",
      "userId": "11076033903721853164"
     },
     "user_tz": 300
    },
    "id": "_FKf4w7cMusv"
   },
   "outputs": [],
   "source": [
    "project_dir = '/drive/MyDrive/cs478ModelTraining'\n",
    "def runModel(runName, predictionName,  epochs, batch_size, early_stop):\n",
    "\n",
    "  # TRAINING THE MODEL\n",
    "\n",
    "  model = YOLO('yolov8n.yaml')\n",
    "  model.train(data='/content/drive/MyDrive/cs478ModelTraining/test2.v1i.yolov8/data.yaml', epochs = epochs,\n",
    "            imgsz=640,\n",
    "            project = '/content/drive/MyDrive/cs478ModelTraining',\n",
    "            name = runName,\n",
    "            resume=True,\n",
    "            exist_ok=True,\n",
    "            patience=early_stop)\n",
    "  model.export(format='onnx')\n",
    "\n",
    "  # RUNNING MODEL ON TEST\n",
    "\n",
    "  results = model.predict(\n",
    "    source='drive/MyDrive/cs478ModelTraining/test2.v1i.yolov8/test/images',\n",
    "    save=True,\n",
    "    save_conf=False,\n",
    "    save_txt=True,\n",
    "    show_conf = True,\n",
    "    show_labels = True,\n",
    "    show_boxes = True,\n",
    "    exist_ok = True,\n",
    "    name=predictionName,\n",
    "  )\n",
    "\n",
    "\n",
    "  # GETTING METRICS\n",
    "\n",
    "  # Validate the model and print metrics\n",
    "  metrics = model.val()\n",
    "\n",
    "  print(dir(metrics))\n",
    "  # Assuming `maps` holds mAP values for each class\n",
    "  print(\"mAP for each class:\", metrics.maps)\n",
    "  print(dir(metrics.box))\n",
    "  print(f\"mAP@0.5: {metrics.box.map50}\")\n",
    "  print(f\"mAP@0.5:0.95: {metrics.box.map}\")\n",
    "  print(f\"Precision: {metrics.box.p}\")\n",
    "  print(f\"Recall: {metrics.box.r}\")\n"
   ]
  },
  {
   "cell_type": "code",
   "execution_count": 6,
   "metadata": {
    "executionInfo": {
     "elapsed": 139,
     "status": "ok",
     "timestamp": 1733424494965,
     "user": {
      "displayName": "Tanay Athreya",
      "userId": "11076033903721853164"
     },
     "user_tz": 300
    },
    "id": "RTdoWN8aOzZy"
   },
   "outputs": [],
   "source": [
    "# Final function\n",
    "# input: path to an ERD image\n",
    "# output: bounding box on image + coordinates\n",
    "def predictOneImage(image_path, model, predictionName):\n",
    "\n",
    "  results = model.predict(\n",
    "    source = image_path,\n",
    "    imgsz = 640,\n",
    "    save=True,\n",
    "    save_txt=True,\n",
    "    show_conf = True,\n",
    "    show_labels = True,\n",
    "    show_boxes = True,\n",
    "    name=predictionName,\n",
    "  )"
   ]
  },
  {
   "cell_type": "code",
   "execution_count": 7,
   "metadata": {
    "executionInfo": {
     "elapsed": 165,
     "status": "ok",
     "timestamp": 1733424497515,
     "user": {
      "displayName": "Tanay Athreya",
      "userId": "11076033903721853164"
     },
     "user_tz": 300
    },
    "id": "l46y2m5X84bp"
   },
   "outputs": [],
   "source": [
    "# TRAINING CELL\n",
    "# runModel('300_epochs_model_results', '300_epochs_predictions',  300, 0, 15)"
   ]
  },
  {
   "cell_type": "code",
   "execution_count": 8,
   "metadata": {
    "executionInfo": {
     "elapsed": 1,
     "status": "ok",
     "timestamp": 1733424497680,
     "user": {
      "displayName": "Tanay Athreya",
      "userId": "11076033903721853164"
     },
     "user_tz": 300
    },
    "id": "rVSs96kZA0Az"
   },
   "outputs": [],
   "source": [
    "# TRAINING CELL\n",
    "# model = YOLO(\"/content/drive/MyDrive/cs478ModelTraining/300_epochs_model_results/weights/last.pt\")\n",
    "# model.train(resume=True)\n",
    "# model.export(format='onnx')"
   ]
  },
  {
   "cell_type": "code",
   "execution_count": null,
   "metadata": {
    "executionInfo": {
     "elapsed": 1,
     "status": "ok",
     "timestamp": 1733424498010,
     "user": {
      "displayName": "Tanay Athreya",
      "userId": "11076033903721853164"
     },
     "user_tz": 300
    },
    "id": "Va4BAWDJJ60-"
   },
   "outputs": [],
   "source": [
    "# TRAINING CELL\n",
    "# model = YOLO('yolov8n.yaml')\n",
    "# model.train(data='/content/drive/MyDrive/cs478ModelTraining/failing_image_OD_training/data.yaml', epochs = 300,\n",
    "#             imgsz=640,\n",
    "#             project = '/content/drive/MyDrive/cs478ModelTraining',\n",
    "#             name = \"failing_image_retrained_results\",\n",
    "#             resume=True,\n",
    "#             exist_ok=True,\n",
    "#             patience=15)\n",
    "# model.export(format='onnx')"
   ]
  },
  {
   "cell_type": "code",
   "execution_count": 10,
   "metadata": {
    "executionInfo": {
     "elapsed": 146,
     "status": "ok",
     "timestamp": 1733424498155,
     "user": {
      "displayName": "Tanay Athreya",
      "userId": "11076033903721853164"
     },
     "user_tz": 300
    },
    "id": "vr5L5th6KgX0"
   },
   "outputs": [],
   "source": [
    "# TRAINING CELL\n",
    "# model = YOLO(\"/content/drive/MyDrive/cs478ModelTraining/failing_image_retrained_results/weights/last.pt\")\n",
    "# model.train(resume=True, patience=15)\n",
    "# model.export(format='onnx')\n"
   ]
  },
  {
   "cell_type": "markdown",
   "metadata": {
    "id": "9w3j1PkID9rj"
   },
   "source": [
    "## LOADING FINAL OBJECT DETECTION MODEL WITH BEST WEIGHTS & GETTING RESULTS"
   ]
  },
  {
   "cell_type": "code",
   "execution_count": 11,
   "metadata": {
    "executionInfo": {
     "elapsed": 967,
     "status": "ok",
     "timestamp": 1733424500584,
     "user": {
      "displayName": "Tanay Athreya",
      "userId": "11076033903721853164"
     },
     "user_tz": 300
    },
    "id": "SNYCZbLaCuTO"
   },
   "outputs": [],
   "source": [
    "model = YOLO(\"/content/drive/MyDrive/cs478ModelTraining/failing_image_retrained_results/weights/best.pt\")\n"
   ]
  },
  {
   "cell_type": "code",
   "execution_count": null,
   "metadata": {
    "id": "0I6klqpnPvAb"
   },
   "outputs": [],
   "source": [
    "# RUNNING MODEL ON TEST\n",
    "\n",
    "\n",
    "results = model.predict(\n",
    "  source='drive/MyDrive/cs478ModelTraining/test2.v1i.yolov8/test/images',\n",
    "  save=True,\n",
    "  save_conf=False,\n",
    "  save_txt=True,\n",
    "  show_conf = True,\n",
    "  show_labels = True,\n",
    "  show_boxes = True,\n",
    "  exist_ok = True,\n",
    "  name=\"300epochs_predictions\",\n",
    ")\n",
    "\n",
    "\n",
    "# GETTING METRICS\n",
    "\n",
    "# Validate the model and print metrics\n",
    "metrics = model.val()\n",
    "\n",
    "print(dir(metrics))\n",
    "# Assuming `maps` holds mAP values for each class\n",
    "print(\"mAP for each class:\", metrics.maps)\n",
    "print(dir(metrics.box))\n",
    "print(f\"mAP@0.5: {metrics.box.map50}\")\n",
    "print(f\"mAP@0.5:0.95: {metrics.box.map}\")\n",
    "print(f\"Precision: {metrics.box.p}\")\n",
    "print(f\"Recall: {metrics.box.r}\")"
   ]
  },
  {
   "cell_type": "markdown",
   "metadata": {},
   "source": [
    "## OCR TO EXTRACT TEXT FROM DIAGRAMS"
   ]
  },
  {
   "cell_type": "code",
   "execution_count": null,
   "metadata": {
    "id": "ffzjdoHHfrED"
   },
   "outputs": [],
   "source": [
    "pip install git+https://github.com/JaidedAI/EasyOCR.git"
   ]
  },
  {
   "cell_type": "code",
   "execution_count": null,
   "metadata": {
    "id": "tALTwRk8KCie"
   },
   "outputs": [],
   "source": [
    "!pip install easyocr\n"
   ]
  },
  {
   "cell_type": "code",
   "execution_count": 15,
   "metadata": {
    "executionInfo": {
     "elapsed": 706,
     "status": "ok",
     "timestamp": 1733424621515,
     "user": {
      "displayName": "Tanay Athreya",
      "userId": "11076033903721853164"
     },
     "user_tz": 300
    },
    "id": "gqBorJLyraRQ"
   },
   "outputs": [],
   "source": [
    "import os\n",
    "import cv2\n",
    "import easyocr"
   ]
  },
  {
   "cell_type": "code",
   "execution_count": null,
   "metadata": {
    "id": "wNSoecGa3jef"
   },
   "outputs": [],
   "source": [
    "reader = easyocr.Reader(['en'])"
   ]
  },
  {
   "cell_type": "code",
   "execution_count": 18,
   "metadata": {
    "executionInfo": {
     "elapsed": 191,
     "status": "ok",
     "timestamp": 1733424646465,
     "user": {
      "displayName": "Tanay Athreya",
      "userId": "11076033903721853164"
     },
     "user_tz": 300
    },
    "id": "E62wdyKpvVo2"
   },
   "outputs": [],
   "source": [
    "# Function to get image dimensions\n",
    "def get_image_dimensions(image_path):\n",
    "    image = cv2.imread(image_path)\n",
    "    if image is None:\n",
    "        print(f\"Error: Unable to load the image at {image_path}\")\n",
    "        return None\n",
    "    height, width = image.shape[:2]\n",
    "    return width, height"
   ]
  },
  {
   "cell_type": "code",
   "execution_count": 19,
   "metadata": {
    "executionInfo": {
     "elapsed": 1,
     "status": "ok",
     "timestamp": 1733424646601,
     "user": {
      "displayName": "Tanay Athreya",
      "userId": "11076033903721853164"
     },
     "user_tz": 300
    },
    "id": "9W50owzfvVv8"
   },
   "outputs": [],
   "source": [
    "# Function to read YOLO prediction files (extracts class ID and bounding box)\n",
    "def read_yolo_predictions(file_path):\n",
    "    predictions = []\n",
    "    with open(file_path, 'r') as file:\n",
    "        for line in file:\n",
    "            parts = line.strip().split()\n",
    "            class_id = int(parts[0])\n",
    "            x_center, y_center, width, height = map(float, parts[1:])\n",
    "            predictions.append({\n",
    "                'class_id': class_id,\n",
    "                'x_center': x_center,\n",
    "                'y_center': y_center,\n",
    "                'width': width,\n",
    "                'height': height\n",
    "            })\n",
    "    return predictions"
   ]
  },
  {
   "cell_type": "code",
   "execution_count": 20,
   "metadata": {
    "executionInfo": {
     "elapsed": 125,
     "status": "ok",
     "timestamp": 1733424648018,
     "user": {
      "displayName": "Tanay Athreya",
      "userId": "11076033903721853164"
     },
     "user_tz": 300
    },
    "id": "u_MwZnrVraTx"
   },
   "outputs": [],
   "source": [
    "# Function to crop image using YOLO bounding box\n",
    "def crop_image_using_yolo(image, x_center, y_center, width, height, img_width, img_height):\n",
    "  x1 = int((x_center - width / 2) * img_width)\n",
    "  y1 = int((y_center - height / 2) * img_height)\n",
    "  x2 = int((x_center + width / 2) * img_width)\n",
    "  y2 = int((y_center + height / 2) * img_height)\n",
    "\n",
    "  x1, y1 = max(0, x1), max(0, y1)\n",
    "  x2, y2 = min(img_width, x2), min(img_height, y2)\n",
    "\n",
    "  cropped_image = image[y1:y2, x1:x2]\n",
    "\n",
    "  return cropped_image"
   ]
  },
  {
   "cell_type": "code",
   "execution_count": 21,
   "metadata": {
    "executionInfo": {
     "elapsed": 2,
     "status": "ok",
     "timestamp": 1733424648402,
     "user": {
      "displayName": "Tanay Athreya",
      "userId": "11076033903721853164"
     },
     "user_tz": 300
    },
    "id": "gGfttN0kz2dn"
   },
   "outputs": [],
   "source": [
    "# Function to apply OCR on the cropped image\n",
    "def ocr_on_cropped_image(cropped_image):\n",
    "  ocr_result = reader.readtext(cropped_image, min_size=5, contrast_ths=0.7, adjust_contrast=0.5, add_margin=0.2)\n",
    "  text = [res[1] for res in ocr_result]\n",
    "  return text"
   ]
  },
  {
   "cell_type": "code",
   "execution_count": 22,
   "metadata": {
    "executionInfo": {
     "elapsed": 147,
     "status": "ok",
     "timestamp": 1733424650507,
     "user": {
      "displayName": "Tanay Athreya",
      "userId": "11076033903721853164"
     },
     "user_tz": 300
    },
    "id": "ARX941SQI3Bj"
   },
   "outputs": [],
   "source": [
    "# Load the trained YOLOv8 model with our weights\n",
    "model = YOLO('/content/drive/MyDrive/cs478ModelTraining/failing_image_retrained_results/weights/best.pt')\n"
   ]
  },
  {
   "cell_type": "code",
   "execution_count": 23,
   "metadata": {
    "colab": {
     "base_uri": "https://localhost:8080/"
    },
    "executionInfo": {
     "elapsed": 10375,
     "status": "ok",
     "timestamp": 1733424662070,
     "user": {
      "displayName": "Tanay Athreya",
      "userId": "11076033903721853164"
     },
     "user_tz": 300
    },
    "id": "tM-Zfi2JI3J-",
    "outputId": "63c54498-f256-48fc-db31-1b0c969432d6"
   },
   "outputs": [
    {
     "name": "stdout",
     "output_type": "stream",
     "text": [
      "\n",
      "image 1/8 /content/drive/MyDrive/cs478ModelTraining/collection_2/1.png: 224x640 3 entitys, 2 rels, 7 rel_attrs, 87.6ms\n",
      "image 2/8 /content/drive/MyDrive/cs478ModelTraining/collection_2/2.png: 576x640 3 entitys, 5 rels, 1 weak_entity, 203.1ms\n",
      "image 3/8 /content/drive/MyDrive/cs478ModelTraining/collection_2/3.png: 544x640 4 entitys, 1 ident_rel, 3 rels, 10 rel_attrs, 1 weak_entity, 176.1ms\n",
      "image 4/8 /content/drive/MyDrive/cs478ModelTraining/collection_2/4.png: 640x640 3 entitys, 6 ident_rels, 3 rels, 3 rel_attrs, 3 weak_entitys, 196.6ms\n",
      "image 5/8 /content/drive/MyDrive/cs478ModelTraining/collection_2/5.png: 640x640 3 entitys, 2 ident_rels, 3 rels, 3 weak_entitys, 196.4ms\n",
      "image 6/8 /content/drive/MyDrive/cs478ModelTraining/collection_2/6.png: 320x640 3 entitys, 5 rels, 2 weak_entitys, 118.3ms\n",
      "image 7/8 /content/drive/MyDrive/cs478ModelTraining/collection_2/7.png: 640x640 4 entitys, 1 ident_rel, 5 rels, 1 weak_entity, 319.0ms\n",
      "image 8/8 /content/drive/MyDrive/cs478ModelTraining/collection_2/8.png: 384x640 7 entitys, 1 ident_rel, 3 rels, 221.6ms\n",
      "Speed: 4.6ms preprocess, 189.8ms inference, 1.1ms postprocess per image at shape (1, 3, 384, 640)\n",
      "Results saved to \u001b[1mdrive/MyDrive/cs478ModelTraining/gradescope_predictions_retrained_2nd_model\u001b[0m\n",
      "8 labels saved to drive/MyDrive/cs478ModelTraining/gradescope_predictions_retrained_2nd_model/labels\n"
     ]
    }
   ],
   "source": [
    "results = model.predict(\n",
    "    source='drive/MyDrive/cs478ModelTraining/collection_2',\n",
    "    save=True,\n",
    "    save_conf=False,\n",
    "    save_txt=True,\n",
    "    show_conf = True,\n",
    "    show_labels = True,\n",
    "    show_boxes = True,\n",
    "    exist_ok = True,\n",
    "    project=\"drive/MyDrive/cs478ModelTraining/\",\n",
    "    name=\"gradescope_predictions_retrained_2nd_model\",\n",
    ")\n"
   ]
  },
  {
   "cell_type": "code",
   "execution_count": 24,
   "metadata": {
    "colab": {
     "base_uri": "https://localhost:8080/"
    },
    "executionInfo": {
     "elapsed": 131,
     "status": "ok",
     "timestamp": 1733424673069,
     "user": {
      "displayName": "Tanay Athreya",
      "userId": "11076033903721853164"
     },
     "user_tz": 300
    },
    "id": "Un_WHc69uTNc",
    "outputId": "8908c335-067d-4f8a-ed86-6a639875a901"
   },
   "outputs": [
    {
     "name": "stdout",
     "output_type": "stream",
     "text": [
      "Folder exists!\n",
      "Folder exists!\n"
     ]
    }
   ],
   "source": [
    "import os\n",
    "\n",
    "# THE FILE PATH TO FOLDER OF OUTPUT OF YOLOV8 MODEL THAT IS LOADED in ABOVE CELL. FORMAT IS OBJECT NUMBER DETECTED, then the coordinates of the object\n",
    "prediction_folder = '/content/drive/MyDrive/cs478ModelTraining/gradescope_predictions_retrained_2nd_model/labels/'\n",
    "# THE FILE PATH TO FOLDER OF IMAGES YOU WANT TO RUN OCR ON\n",
    "image_folder = '/content/drive/MyDrive/cs478ModelTraining/collection_2/'\n",
    "# WHERE TO STORE RESULTS FROM OCR\n",
    "results_folder = '/content/drive/MyDrive/cs478ModelTraining/TA_graded_final'\n",
    "\n",
    "if os.path.exists(prediction_folder):\n",
    "    print(\"Folder exists!\")\n",
    "else:\n",
    "    print(\"Folder does not exist!\")\n",
    "\n",
    "if os.path.exists(image_folder):\n",
    "    print(\"Folder exists!\")\n",
    "else:\n",
    "    print(\"Folder does not exist!\")\n",
    "\n",
    "os.makedirs(results_folder, exist_ok=True)\n",
    "# Dictionary mapping Class IDs to labels\n",
    "class_id_to_label = {\n",
    "    0: 'entity',\n",
    "    1: 'ident_rel',\n",
    "    2: 'rel',\n",
    "    3: 'rel_attr',\n",
    "    4: 'weak_entity'\n",
    "}"
   ]
  },
  {
   "cell_type": "markdown",
   "metadata": {},
   "source": [
    "# Going through all test images and combining results from Object Detection and OCR to get all the different entities, relationships, and attributes AND the text in the diagrams"
   ]
  },
  {
   "cell_type": "code",
   "execution_count": 25,
   "metadata": {
    "colab": {
     "base_uri": "https://localhost:8080/"
    },
    "executionInfo": {
     "elapsed": 1284648,
     "status": "ok",
     "timestamp": 1733425967629,
     "user": {
      "displayName": "Tanay Athreya",
      "userId": "11076033903721853164"
     },
     "user_tz": 300
    },
    "id": "GbU6SqEmB55g",
    "outputId": "3b540547-93b6-4b41-bcf3-c4c072c083e5"
   },
   "outputs": [
    {
     "name": "stdout",
     "output_type": "stream",
     "text": [
      "['1.txt', '2.txt', '3.txt', '4.txt', '5.txt', '6.txt', '7.txt', '8.txt']\n",
      "/content/drive/MyDrive/cs478ModelTraining/gradescope_predictions_retrained_2nd_model/labels/\n",
      "1.txt\n",
      "/content/drive/MyDrive/cs478ModelTraining/gradescope_predictions_retrained_2nd_model/labels/1.txt\n",
      "[{'class_id': 3, 'x_center': 0.250663, 'y_center': 0.719573, 'width': 0.0886889, 'height': 0.174882}, {'class_id': 3, 'x_center': 0.379076, 'y_center': 0.726323, 'width': 0.0889798, 'height': 0.169576}, {'class_id': 3, 'x_center': 0.775246, 'y_center': 0.0848242, 'width': 0.0887994, 'height': 0.169648}, {'class_id': 3, 'x_center': 0.674847, 'y_center': 0.081588, 'width': 0.087662, 'height': 0.163176}, {'class_id': 3, 'x_center': 0.319521, 'y_center': 0.918596, 'width': 0.0905732, 'height': 0.161333}, {'class_id': 0, 'x_center': 0.904086, 'y_center': 0.437399, 'width': 0.177846, 'height': 0.314782}, {'class_id': 0, 'x_center': 0.0982464, 'y_center': 0.443289, 'width': 0.1958, 'height': 0.332732}, {'class_id': 3, 'x_center': 0.249736, 'y_center': 0.0807312, 'width': 0.0888169, 'height': 0.161462}, {'class_id': 3, 'x_center': 0.381037, 'y_center': 0.0872567, 'width': 0.0908687, 'height': 0.174513}, {'class_id': 2, 'x_center': 0.724497, 'y_center': 0.439227, 'width': 0.0904494, 'height': 0.29717}, {'class_id': 0, 'x_center': 0.542163, 'y_center': 0.542029, 'width': 0.193918, 'height': 0.542598}, {'class_id': 2, 'x_center': 0.318209, 'y_center': 0.429374, 'width': 0.0901799, 'height': 0.28533}, {'class_id': 3, 'x_center': 0.250663, 'y_center': 0.719573, 'width': 0.0886889, 'height': 0.174882}, {'class_id': 3, 'x_center': 0.379076, 'y_center': 0.726323, 'width': 0.0889798, 'height': 0.169576}, {'class_id': 3, 'x_center': 0.775246, 'y_center': 0.0848242, 'width': 0.0887994, 'height': 0.169648}, {'class_id': 3, 'x_center': 0.674847, 'y_center': 0.081588, 'width': 0.087662, 'height': 0.163176}, {'class_id': 3, 'x_center': 0.319521, 'y_center': 0.918596, 'width': 0.0905732, 'height': 0.161333}, {'class_id': 0, 'x_center': 0.904086, 'y_center': 0.437399, 'width': 0.177846, 'height': 0.314782}, {'class_id': 0, 'x_center': 0.0982464, 'y_center': 0.443289, 'width': 0.1958, 'height': 0.332732}, {'class_id': 3, 'x_center': 0.249736, 'y_center': 0.0807312, 'width': 0.0888169, 'height': 0.161462}, {'class_id': 3, 'x_center': 0.381037, 'y_center': 0.0872567, 'width': 0.0908687, 'height': 0.174513}, {'class_id': 2, 'x_center': 0.724497, 'y_center': 0.439227, 'width': 0.0904494, 'height': 0.29717}, {'class_id': 0, 'x_center': 0.542163, 'y_center': 0.542029, 'width': 0.193918, 'height': 0.542598}, {'class_id': 2, 'x_center': 0.318209, 'y_center': 0.429374, 'width': 0.0901799, 'height': 0.28533}, {'class_id': 3, 'x_center': 0.250663, 'y_center': 0.719573, 'width': 0.0886889, 'height': 0.174882}, {'class_id': 3, 'x_center': 0.379076, 'y_center': 0.726323, 'width': 0.0889798, 'height': 0.169576}, {'class_id': 3, 'x_center': 0.775246, 'y_center': 0.0848242, 'width': 0.0887994, 'height': 0.169648}, {'class_id': 3, 'x_center': 0.674847, 'y_center': 0.081588, 'width': 0.087662, 'height': 0.163176}, {'class_id': 3, 'x_center': 0.319521, 'y_center': 0.918596, 'width': 0.0905732, 'height': 0.161333}, {'class_id': 0, 'x_center': 0.904086, 'y_center': 0.437399, 'width': 0.177846, 'height': 0.314782}, {'class_id': 0, 'x_center': 0.0982464, 'y_center': 0.443289, 'width': 0.1958, 'height': 0.332732}, {'class_id': 3, 'x_center': 0.249736, 'y_center': 0.0807312, 'width': 0.0888169, 'height': 0.161462}, {'class_id': 3, 'x_center': 0.381037, 'y_center': 0.0872567, 'width': 0.0908687, 'height': 0.174513}, {'class_id': 2, 'x_center': 0.724497, 'y_center': 0.439227, 'width': 0.0904494, 'height': 0.29717}, {'class_id': 0, 'x_center': 0.542163, 'y_center': 0.542029, 'width': 0.193918, 'height': 0.542598}, {'class_id': 2, 'x_center': 0.318209, 'y_center': 0.429374, 'width': 0.0901799, 'height': 0.28533}]\n",
      "[{'class_id': 3, 'coordinates': (0.250663, 0.719573, 0.0886889, 0.174882), 'text': ['departure', 'date-time']}, {'class_id': 3, 'coordinates': (0.379076, 0.726323, 0.0889798, 0.169576), 'text': ['duration']}, {'class_id': 3, 'coordinates': (0.775246, 0.0848242, 0.0887994, 0.169648), 'text': ['price']}, {'class_id': 3, 'coordinates': (0.674847, 0.081588, 0.087662, 0.163176), 'text': ['max #']}, {'class_id': 3, 'coordinates': (0.319521, 0.918596, 0.0905732, 0.161333), 'text': ['arrival date-', 'time']}, {'class_id': 0, 'coordinates': (0.904086, 0.437399, 0.177846, 0.314782), 'text': ['bag', 'K', 'type', 'max weight']}, {'class_id': 0, 'coordinates': (0.0982464, 0.443289, 0.1958, 0.332732), 'text': ['airline', 'PK', 'name', 'rating']}, {'class_id': 3, 'coordinates': (0.249736, 0.0807312, 0.0888169, 0.161462), 'text': ['origin']}, {'class_id': 3, 'coordinates': (0.381037, 0.0872567, 0.0908687, 0.174513), 'text': ['destination']}, {'class_id': 2, 'coordinates': (0.724497, 0.439227, 0.0904494, 0.29717), 'text': ['allows']}, {'class_id': 0, 'coordinates': (0.542163, 0.542029, 0.193918, 0.542598), 'text': ['trip', 'PK', 'number', 'class', 'price', 'type']}, {'class_id': 2, 'coordinates': (0.318209, 0.429374, 0.0901799, 0.28533), 'text': ['flight']}, {'class_id': 3, 'coordinates': (0.250663, 0.719573, 0.0886889, 0.174882), 'text': ['departure', 'date-time']}, {'class_id': 3, 'coordinates': (0.379076, 0.726323, 0.0889798, 0.169576), 'text': ['duration']}, {'class_id': 3, 'coordinates': (0.775246, 0.0848242, 0.0887994, 0.169648), 'text': ['price']}, {'class_id': 3, 'coordinates': (0.674847, 0.081588, 0.087662, 0.163176), 'text': ['max #']}, {'class_id': 3, 'coordinates': (0.319521, 0.918596, 0.0905732, 0.161333), 'text': ['arrival date-', 'time']}, {'class_id': 0, 'coordinates': (0.904086, 0.437399, 0.177846, 0.314782), 'text': ['bag', 'K', 'type', 'max weight']}, {'class_id': 0, 'coordinates': (0.0982464, 0.443289, 0.1958, 0.332732), 'text': ['airline', 'PK', 'name', 'rating']}, {'class_id': 3, 'coordinates': (0.249736, 0.0807312, 0.0888169, 0.161462), 'text': ['origin']}, {'class_id': 3, 'coordinates': (0.381037, 0.0872567, 0.0908687, 0.174513), 'text': ['destination']}, {'class_id': 2, 'coordinates': (0.724497, 0.439227, 0.0904494, 0.29717), 'text': ['allows']}, {'class_id': 0, 'coordinates': (0.542163, 0.542029, 0.193918, 0.542598), 'text': ['trip', 'PK', 'number', 'class', 'price', 'type']}, {'class_id': 2, 'coordinates': (0.318209, 0.429374, 0.0901799, 0.28533), 'text': ['flight']}, {'class_id': 3, 'coordinates': (0.250663, 0.719573, 0.0886889, 0.174882), 'text': ['departure', 'date-time']}, {'class_id': 3, 'coordinates': (0.379076, 0.726323, 0.0889798, 0.169576), 'text': ['duration']}, {'class_id': 3, 'coordinates': (0.775246, 0.0848242, 0.0887994, 0.169648), 'text': ['price']}, {'class_id': 3, 'coordinates': (0.674847, 0.081588, 0.087662, 0.163176), 'text': ['max #']}, {'class_id': 3, 'coordinates': (0.319521, 0.918596, 0.0905732, 0.161333), 'text': ['arrival date-', 'time']}, {'class_id': 0, 'coordinates': (0.904086, 0.437399, 0.177846, 0.314782), 'text': ['bag', 'K', 'type', 'max weight']}, {'class_id': 0, 'coordinates': (0.0982464, 0.443289, 0.1958, 0.332732), 'text': ['airline', 'PK', 'name', 'rating']}, {'class_id': 3, 'coordinates': (0.249736, 0.0807312, 0.0888169, 0.161462), 'text': ['origin']}, {'class_id': 3, 'coordinates': (0.381037, 0.0872567, 0.0908687, 0.174513), 'text': ['destination']}, {'class_id': 2, 'coordinates': (0.724497, 0.439227, 0.0904494, 0.29717), 'text': ['allows']}, {'class_id': 0, 'coordinates': (0.542163, 0.542029, 0.193918, 0.542598), 'text': ['trip', 'PK', 'number', 'class', 'price', 'type']}, {'class_id': 2, 'coordinates': (0.318209, 0.429374, 0.0901799, 0.28533), 'text': ['flight']}]\n",
      "OCR results for 1.png:\n",
      "Class ID: 3, Coordinates: (0.250663, 0.719573, 0.0886889, 0.174882), Extracted Text: ['departure date-time']\n",
      "Class ID: 3, Coordinates: (0.379076, 0.726323, 0.0889798, 0.169576), Extracted Text: ['duration']\n",
      "Class ID: 3, Coordinates: (0.775246, 0.0848242, 0.0887994, 0.169648), Extracted Text: ['price']\n",
      "Class ID: 3, Coordinates: (0.674847, 0.081588, 0.087662, 0.163176), Extracted Text: ['max #']\n",
      "Class ID: 3, Coordinates: (0.319521, 0.918596, 0.0905732, 0.161333), Extracted Text: ['arrival date-time']\n",
      "Class ID: 0, Coordinates: (0.904086, 0.437399, 0.177846, 0.314782), Extracted Text: ['bag', 'K', 'type', 'max weight']\n",
      "Class ID: 0, Coordinates: (0.0982464, 0.443289, 0.1958, 0.332732), Extracted Text: ['airline', 'PK', 'name', 'rating']\n",
      "Class ID: 3, Coordinates: (0.249736, 0.0807312, 0.0888169, 0.161462), Extracted Text: ['origin']\n",
      "Class ID: 3, Coordinates: (0.381037, 0.0872567, 0.0908687, 0.174513), Extracted Text: ['destination']\n",
      "Class ID: 2, Coordinates: (0.724497, 0.439227, 0.0904494, 0.29717), Extracted Text: ['allows']\n",
      "Class ID: 0, Coordinates: (0.542163, 0.542029, 0.193918, 0.542598), Extracted Text: ['trip', 'PK', 'number', 'class', 'price', 'type']\n",
      "Class ID: 2, Coordinates: (0.318209, 0.429374, 0.0901799, 0.28533), Extracted Text: ['flight']\n",
      "Class ID: 3, Coordinates: (0.250663, 0.719573, 0.0886889, 0.174882), Extracted Text: ['departure date-time']\n",
      "Class ID: 3, Coordinates: (0.379076, 0.726323, 0.0889798, 0.169576), Extracted Text: ['duration']\n",
      "Class ID: 3, Coordinates: (0.775246, 0.0848242, 0.0887994, 0.169648), Extracted Text: ['price']\n",
      "Class ID: 3, Coordinates: (0.674847, 0.081588, 0.087662, 0.163176), Extracted Text: ['max #']\n",
      "Class ID: 3, Coordinates: (0.319521, 0.918596, 0.0905732, 0.161333), Extracted Text: ['arrival date-time']\n",
      "Class ID: 0, Coordinates: (0.904086, 0.437399, 0.177846, 0.314782), Extracted Text: ['bag', 'K', 'type', 'max weight']\n",
      "Class ID: 0, Coordinates: (0.0982464, 0.443289, 0.1958, 0.332732), Extracted Text: ['airline', 'PK', 'name', 'rating']\n",
      "Class ID: 3, Coordinates: (0.249736, 0.0807312, 0.0888169, 0.161462), Extracted Text: ['origin']\n",
      "Class ID: 3, Coordinates: (0.381037, 0.0872567, 0.0908687, 0.174513), Extracted Text: ['destination']\n",
      "Class ID: 2, Coordinates: (0.724497, 0.439227, 0.0904494, 0.29717), Extracted Text: ['allows']\n",
      "Class ID: 0, Coordinates: (0.542163, 0.542029, 0.193918, 0.542598), Extracted Text: ['trip', 'PK', 'number', 'class', 'price', 'type']\n",
      "Class ID: 2, Coordinates: (0.318209, 0.429374, 0.0901799, 0.28533), Extracted Text: ['flight']\n",
      "Class ID: 3, Coordinates: (0.250663, 0.719573, 0.0886889, 0.174882), Extracted Text: ['departure date-time']\n",
      "Class ID: 3, Coordinates: (0.379076, 0.726323, 0.0889798, 0.169576), Extracted Text: ['duration']\n",
      "Class ID: 3, Coordinates: (0.775246, 0.0848242, 0.0887994, 0.169648), Extracted Text: ['price']\n",
      "Class ID: 3, Coordinates: (0.674847, 0.081588, 0.087662, 0.163176), Extracted Text: ['max #']\n",
      "Class ID: 3, Coordinates: (0.319521, 0.918596, 0.0905732, 0.161333), Extracted Text: ['arrival date-time']\n",
      "Class ID: 0, Coordinates: (0.904086, 0.437399, 0.177846, 0.314782), Extracted Text: ['bag', 'K', 'type', 'max weight']\n",
      "Class ID: 0, Coordinates: (0.0982464, 0.443289, 0.1958, 0.332732), Extracted Text: ['airline', 'PK', 'name', 'rating']\n",
      "Class ID: 3, Coordinates: (0.249736, 0.0807312, 0.0888169, 0.161462), Extracted Text: ['origin']\n",
      "Class ID: 3, Coordinates: (0.381037, 0.0872567, 0.0908687, 0.174513), Extracted Text: ['destination']\n",
      "Class ID: 2, Coordinates: (0.724497, 0.439227, 0.0904494, 0.29717), Extracted Text: ['allows']\n",
      "Class ID: 0, Coordinates: (0.542163, 0.542029, 0.193918, 0.542598), Extracted Text: ['trip', 'PK', 'number', 'class', 'price', 'type']\n",
      "Class ID: 2, Coordinates: (0.318209, 0.429374, 0.0901799, 0.28533), Extracted Text: ['flight']\n",
      "----------------------------------------\n",
      "/content/drive/MyDrive/cs478ModelTraining/gradescope_predictions_retrained_2nd_model/labels/\n",
      "2.txt\n",
      "/content/drive/MyDrive/cs478ModelTraining/gradescope_predictions_retrained_2nd_model/labels/2.txt\n",
      "[{'class_id': 4, 'x_center': 0.150955, 'y_center': 0.882044, 'width': 0.28706, 'height': 0.231998}, {'class_id': 2, 'x_center': 0.514188, 'y_center': 0.456674, 'width': 0.118401, 'height': 0.088264}, {'class_id': 2, 'x_center': 0.526797, 'y_center': 0.218267, 'width': 0.178003, 'height': 0.101598}, {'class_id': 0, 'x_center': 0.87929, 'y_center': 0.117592, 'width': 0.233209, 'height': 0.235183}, {'class_id': 2, 'x_center': 0.869081, 'y_center': 0.457366, 'width': 0.149155, 'height': 0.0912142}, {'class_id': 2, 'x_center': 0.526533, 'y_center': 0.0918828, 'width': 0.171509, 'height': 0.100719}, {'class_id': 0, 'x_center': 0.794556, 'y_center': 0.755284, 'width': 0.267145, 'height': 0.149447}, {'class_id': 0, 'x_center': 0.161897, 'y_center': 0.175345, 'width': 0.274751, 'height': 0.345304}, {'class_id': 2, 'x_center': 0.131883, 'y_center': 0.582038, 'width': 0.214055, 'height': 0.101742}, {'class_id': 4, 'x_center': 0.150955, 'y_center': 0.882044, 'width': 0.28706, 'height': 0.231998}, {'class_id': 2, 'x_center': 0.514188, 'y_center': 0.456674, 'width': 0.118401, 'height': 0.088264}, {'class_id': 2, 'x_center': 0.526797, 'y_center': 0.218267, 'width': 0.178003, 'height': 0.101598}, {'class_id': 0, 'x_center': 0.87929, 'y_center': 0.117592, 'width': 0.233209, 'height': 0.235183}, {'class_id': 2, 'x_center': 0.869081, 'y_center': 0.457366, 'width': 0.149155, 'height': 0.0912142}, {'class_id': 2, 'x_center': 0.526533, 'y_center': 0.0918828, 'width': 0.171509, 'height': 0.100719}, {'class_id': 0, 'x_center': 0.794556, 'y_center': 0.755284, 'width': 0.267145, 'height': 0.149447}, {'class_id': 0, 'x_center': 0.161897, 'y_center': 0.175345, 'width': 0.274751, 'height': 0.345304}, {'class_id': 2, 'x_center': 0.131883, 'y_center': 0.582038, 'width': 0.214055, 'height': 0.101742}, {'class_id': 4, 'x_center': 0.150955, 'y_center': 0.882044, 'width': 0.28706, 'height': 0.231998}, {'class_id': 2, 'x_center': 0.514188, 'y_center': 0.456674, 'width': 0.118401, 'height': 0.088264}, {'class_id': 2, 'x_center': 0.526797, 'y_center': 0.218267, 'width': 0.178003, 'height': 0.101598}, {'class_id': 0, 'x_center': 0.87929, 'y_center': 0.117592, 'width': 0.233209, 'height': 0.235183}, {'class_id': 2, 'x_center': 0.869081, 'y_center': 0.457366, 'width': 0.149155, 'height': 0.0912142}, {'class_id': 2, 'x_center': 0.526533, 'y_center': 0.0918828, 'width': 0.171509, 'height': 0.100719}, {'class_id': 0, 'x_center': 0.794556, 'y_center': 0.755284, 'width': 0.267145, 'height': 0.149447}, {'class_id': 0, 'x_center': 0.161897, 'y_center': 0.175345, 'width': 0.274751, 'height': 0.345304}, {'class_id': 2, 'x_center': 0.131883, 'y_center': 0.582038, 'width': 0.214055, 'height': 0.101742}]\n",
      "[{'class_id': 4, 'coordinates': (0.150955, 0.882044, 0.28706, 0.231998), 'text': ['Type', 'PK', 'bag_type', 'price', 'max_weight', 'Bag']}, {'class_id': 2, 'coordinates': (0.514188, 0.456674, 0.118401, 0.088264), 'text': ['Sold by']}, {'class_id': 2, 'coordinates': (0.526797, 0.218267, 0.178003, 0.101598), 'text': ['Return Flight']}, {'class_id': 0, 'coordinates': (0.87929, 0.117592, 0.233209, 0.235183), 'text': ['Flight', 'PK', 'flight', 'number', 'departure_date_', 'time', 'arrival_date_time']}, {'class_id': 2, 'coordinates': (0.869081, 0.457366, 0.149155, 0.0912142), 'text': ['Operated by ']}, {'class_id': 2, 'coordinates': (0.526533, 0.0918828, 0.171509, 0.100719), 'text': ['Outbound Flight']}, {'class_id': 0, 'coordinates': (0.794556, 0.755284, 0.267145, 0.149447), 'text': ['Airline', 'PK', 'airline_', 'name', 'rating']}, {'class_id': 0, 'coordinates': (0.161897, 0.175345, 0.274751, 0.345304), 'text': ['Trip', 'PK', 'trip', 'number', 'class', 'price', 'max_bags', 'origin', 'destination']}, {'class_id': 2, 'coordinates': (0.131883, 0.582038, 0.214055, 0.101742), 'text': ['Allowed Bag Type']}, {'class_id': 4, 'coordinates': (0.150955, 0.882044, 0.28706, 0.231998), 'text': ['Type', 'PK', 'bag_type', 'price', 'max_weight', 'Bag']}, {'class_id': 2, 'coordinates': (0.514188, 0.456674, 0.118401, 0.088264), 'text': ['Sold by']}, {'class_id': 2, 'coordinates': (0.526797, 0.218267, 0.178003, 0.101598), 'text': ['Return Flight']}, {'class_id': 0, 'coordinates': (0.87929, 0.117592, 0.233209, 0.235183), 'text': ['Flight', 'PK', 'flight', 'number', 'departure_date_', 'time', 'arrival_date_time']}, {'class_id': 2, 'coordinates': (0.869081, 0.457366, 0.149155, 0.0912142), 'text': ['Operated by ']}, {'class_id': 2, 'coordinates': (0.526533, 0.0918828, 0.171509, 0.100719), 'text': ['Outbound Flight']}, {'class_id': 0, 'coordinates': (0.794556, 0.755284, 0.267145, 0.149447), 'text': ['Airline', 'PK', 'airline_', 'name', 'rating']}, {'class_id': 0, 'coordinates': (0.161897, 0.175345, 0.274751, 0.345304), 'text': ['Trip', 'PK', 'trip', 'number', 'class', 'price', 'max_bags', 'origin', 'destination']}, {'class_id': 2, 'coordinates': (0.131883, 0.582038, 0.214055, 0.101742), 'text': ['Allowed Bag Type']}, {'class_id': 4, 'coordinates': (0.150955, 0.882044, 0.28706, 0.231998), 'text': ['Type', 'PK', 'bag_type', 'price', 'max_weight', 'Bag']}, {'class_id': 2, 'coordinates': (0.514188, 0.456674, 0.118401, 0.088264), 'text': ['Sold by']}, {'class_id': 2, 'coordinates': (0.526797, 0.218267, 0.178003, 0.101598), 'text': ['Return Flight']}, {'class_id': 0, 'coordinates': (0.87929, 0.117592, 0.233209, 0.235183), 'text': ['Flight', 'PK', 'flight', 'number', 'departure_date_', 'time', 'arrival_date_time']}, {'class_id': 2, 'coordinates': (0.869081, 0.457366, 0.149155, 0.0912142), 'text': ['Operated by ']}, {'class_id': 2, 'coordinates': (0.526533, 0.0918828, 0.171509, 0.100719), 'text': ['Outbound Flight']}, {'class_id': 0, 'coordinates': (0.794556, 0.755284, 0.267145, 0.149447), 'text': ['Airline', 'PK', 'airline_', 'name', 'rating']}, {'class_id': 0, 'coordinates': (0.161897, 0.175345, 0.274751, 0.345304), 'text': ['Trip', 'PK', 'trip', 'number', 'class', 'price', 'max_bags', 'origin', 'destination']}, {'class_id': 2, 'coordinates': (0.131883, 0.582038, 0.214055, 0.101742), 'text': ['Allowed Bag Type']}]\n",
      "OCR results for 2.png:\n",
      "Class ID: 4, Coordinates: (0.150955, 0.882044, 0.28706, 0.231998), Extracted Text: ['Type', 'PK', 'bag_type', 'price', 'max_weight', 'Bag']\n",
      "Class ID: 2, Coordinates: (0.514188, 0.456674, 0.118401, 0.088264), Extracted Text: ['Sold by']\n",
      "Class ID: 2, Coordinates: (0.526797, 0.218267, 0.178003, 0.101598), Extracted Text: ['Return Flight']\n",
      "Class ID: 0, Coordinates: (0.87929, 0.117592, 0.233209, 0.235183), Extracted Text: ['Flight', 'PK', 'flight', 'number', 'departure_date_', 'time', 'arrival_date_time']\n",
      "Class ID: 2, Coordinates: (0.869081, 0.457366, 0.149155, 0.0912142), Extracted Text: ['Operated by']\n",
      "Class ID: 2, Coordinates: (0.526533, 0.0918828, 0.171509, 0.100719), Extracted Text: ['Outbound Flight']\n",
      "Class ID: 0, Coordinates: (0.794556, 0.755284, 0.267145, 0.149447), Extracted Text: ['Airline', 'PK', 'airline_', 'name', 'rating']\n",
      "Class ID: 0, Coordinates: (0.161897, 0.175345, 0.274751, 0.345304), Extracted Text: ['Trip', 'PK', 'trip', 'number', 'class', 'price', 'max_bags', 'origin', 'destination']\n",
      "Class ID: 2, Coordinates: (0.131883, 0.582038, 0.214055, 0.101742), Extracted Text: ['Allowed Bag Type']\n",
      "Class ID: 4, Coordinates: (0.150955, 0.882044, 0.28706, 0.231998), Extracted Text: ['Type', 'PK', 'bag_type', 'price', 'max_weight', 'Bag']\n",
      "Class ID: 2, Coordinates: (0.514188, 0.456674, 0.118401, 0.088264), Extracted Text: ['Sold by']\n",
      "Class ID: 2, Coordinates: (0.526797, 0.218267, 0.178003, 0.101598), Extracted Text: ['Return Flight']\n",
      "Class ID: 0, Coordinates: (0.87929, 0.117592, 0.233209, 0.235183), Extracted Text: ['Flight', 'PK', 'flight', 'number', 'departure_date_', 'time', 'arrival_date_time']\n",
      "Class ID: 2, Coordinates: (0.869081, 0.457366, 0.149155, 0.0912142), Extracted Text: ['Operated by']\n",
      "Class ID: 2, Coordinates: (0.526533, 0.0918828, 0.171509, 0.100719), Extracted Text: ['Outbound Flight']\n",
      "Class ID: 0, Coordinates: (0.794556, 0.755284, 0.267145, 0.149447), Extracted Text: ['Airline', 'PK', 'airline_', 'name', 'rating']\n",
      "Class ID: 0, Coordinates: (0.161897, 0.175345, 0.274751, 0.345304), Extracted Text: ['Trip', 'PK', 'trip', 'number', 'class', 'price', 'max_bags', 'origin', 'destination']\n",
      "Class ID: 2, Coordinates: (0.131883, 0.582038, 0.214055, 0.101742), Extracted Text: ['Allowed Bag Type']\n",
      "Class ID: 4, Coordinates: (0.150955, 0.882044, 0.28706, 0.231998), Extracted Text: ['Type', 'PK', 'bag_type', 'price', 'max_weight', 'Bag']\n",
      "Class ID: 2, Coordinates: (0.514188, 0.456674, 0.118401, 0.088264), Extracted Text: ['Sold by']\n",
      "Class ID: 2, Coordinates: (0.526797, 0.218267, 0.178003, 0.101598), Extracted Text: ['Return Flight']\n",
      "Class ID: 0, Coordinates: (0.87929, 0.117592, 0.233209, 0.235183), Extracted Text: ['Flight', 'PK', 'flight', 'number', 'departure_date_', 'time', 'arrival_date_time']\n",
      "Class ID: 2, Coordinates: (0.869081, 0.457366, 0.149155, 0.0912142), Extracted Text: ['Operated by']\n",
      "Class ID: 2, Coordinates: (0.526533, 0.0918828, 0.171509, 0.100719), Extracted Text: ['Outbound Flight']\n",
      "Class ID: 0, Coordinates: (0.794556, 0.755284, 0.267145, 0.149447), Extracted Text: ['Airline', 'PK', 'airline_', 'name', 'rating']\n",
      "Class ID: 0, Coordinates: (0.161897, 0.175345, 0.274751, 0.345304), Extracted Text: ['Trip', 'PK', 'trip', 'number', 'class', 'price', 'max_bags', 'origin', 'destination']\n",
      "Class ID: 2, Coordinates: (0.131883, 0.582038, 0.214055, 0.101742), Extracted Text: ['Allowed Bag Type']\n",
      "----------------------------------------\n",
      "/content/drive/MyDrive/cs478ModelTraining/gradescope_predictions_retrained_2nd_model/labels/\n",
      "3.txt\n",
      "/content/drive/MyDrive/cs478ModelTraining/gradescope_predictions_retrained_2nd_model/labels/3.txt\n",
      "[{'class_id': 3, 'x_center': 0.87296, 'y_center': 0.357654, 'width': 0.11177, 'height': 0.0563128}, {'class_id': 3, 'x_center': 0.871976, 'y_center': 0.634134, 'width': 0.111798, 'height': 0.0522716}, {'class_id': 3, 'x_center': 0.828609, 'y_center': 0.268981, 'width': 0.113726, 'height': 0.0573498}, {'class_id': 3, 'x_center': 0.244417, 'y_center': 0.331986, 'width': 0.10925, 'height': 0.0546052}, {'class_id': 3, 'x_center': 0.775972, 'y_center': 0.49764, 'width': 0.113263, 'height': 0.0546151}, {'class_id': 3, 'x_center': 0.808848, 'y_center': 0.858369, 'width': 0.11119, 'height': 0.0528199}, {'class_id': 3, 'x_center': 0.943811, 'y_center': 0.805186, 'width': 0.107986, 'height': 0.0597775}, {'class_id': 2, 'x_center': 0.160776, 'y_center': 0.409282, 'width': 0.126131, 'height': 0.0769545}, {'class_id': 2, 'x_center': 0.425809, 'y_center': 0.409865, 'width': 0.130608, 'height': 0.0766362}, {'class_id': 3, 'x_center': 0.054324, 'y_center': 0.304185, 'width': 0.107538, 'height': 0.0500395}, {'class_id': 3, 'x_center': 0.521522, 'y_center': 0.293925, 'width': 0.111705, 'height': 0.0572874}, {'class_id': 0, 'x_center': 0.289394, 'y_center': 0.0849268, 'width': 0.204912, 'height': 0.169854}, {'class_id': 0, 'x_center': 0.820761, 'y_center': 0.0786463, 'width': 0.196731, 'height': 0.157211}, {'class_id': 0, 'x_center': 0.519883, 'y_center': 0.639313, 'width': 0.190459, 'height': 0.205006}, {'class_id': 2, 'x_center': 0.723783, 'y_center': 0.358744, 'width': 0.12835, 'height': 0.0780377}, {'class_id': 4, 'x_center': 0.115749, 'y_center': 0.63243, 'width': 0.231497, 'height': 0.15807}, {'class_id': 0, 'x_center': 0.538696, 'y_center': 0.9244, 'width': 0.212681, 'height': 0.138766}, {'class_id': 3, 'x_center': 0.0556471, 'y_center': 0.325509, 'width': 0.111294, 'height': 0.0904437}, {'class_id': 1, 'x_center': 0.76356, 'y_center': 0.728156, 'width': 0.120691, 'height': 0.0705603}, {'class_id': 3, 'x_center': 0.87296, 'y_center': 0.357654, 'width': 0.11177, 'height': 0.0563128}, {'class_id': 3, 'x_center': 0.871976, 'y_center': 0.634134, 'width': 0.111798, 'height': 0.0522716}, {'class_id': 3, 'x_center': 0.828609, 'y_center': 0.268981, 'width': 0.113726, 'height': 0.0573498}, {'class_id': 3, 'x_center': 0.244417, 'y_center': 0.331986, 'width': 0.10925, 'height': 0.0546052}, {'class_id': 3, 'x_center': 0.775972, 'y_center': 0.49764, 'width': 0.113263, 'height': 0.0546151}, {'class_id': 3, 'x_center': 0.808848, 'y_center': 0.858369, 'width': 0.11119, 'height': 0.0528199}, {'class_id': 3, 'x_center': 0.943811, 'y_center': 0.805186, 'width': 0.107986, 'height': 0.0597775}, {'class_id': 2, 'x_center': 0.160776, 'y_center': 0.409282, 'width': 0.126131, 'height': 0.0769545}, {'class_id': 2, 'x_center': 0.425809, 'y_center': 0.409865, 'width': 0.130608, 'height': 0.0766362}, {'class_id': 3, 'x_center': 0.054324, 'y_center': 0.304185, 'width': 0.107538, 'height': 0.0500395}, {'class_id': 3, 'x_center': 0.521522, 'y_center': 0.293925, 'width': 0.111705, 'height': 0.0572874}, {'class_id': 0, 'x_center': 0.289394, 'y_center': 0.0849268, 'width': 0.204912, 'height': 0.169854}, {'class_id': 0, 'x_center': 0.820761, 'y_center': 0.0786463, 'width': 0.196731, 'height': 0.157211}, {'class_id': 0, 'x_center': 0.519883, 'y_center': 0.639313, 'width': 0.190459, 'height': 0.205006}, {'class_id': 2, 'x_center': 0.723783, 'y_center': 0.358744, 'width': 0.12835, 'height': 0.0780377}, {'class_id': 4, 'x_center': 0.115749, 'y_center': 0.63243, 'width': 0.231497, 'height': 0.15807}, {'class_id': 0, 'x_center': 0.538696, 'y_center': 0.9244, 'width': 0.212681, 'height': 0.138766}, {'class_id': 3, 'x_center': 0.0556471, 'y_center': 0.325509, 'width': 0.111294, 'height': 0.0904437}, {'class_id': 1, 'x_center': 0.76356, 'y_center': 0.728156, 'width': 0.120691, 'height': 0.0705603}, {'class_id': 3, 'x_center': 0.87296, 'y_center': 0.357654, 'width': 0.11177, 'height': 0.0563128}, {'class_id': 3, 'x_center': 0.871976, 'y_center': 0.634134, 'width': 0.111798, 'height': 0.0522716}, {'class_id': 3, 'x_center': 0.828609, 'y_center': 0.268981, 'width': 0.113726, 'height': 0.0573498}, {'class_id': 3, 'x_center': 0.244417, 'y_center': 0.331986, 'width': 0.10925, 'height': 0.0546052}, {'class_id': 3, 'x_center': 0.775972, 'y_center': 0.49764, 'width': 0.113263, 'height': 0.0546151}, {'class_id': 3, 'x_center': 0.808848, 'y_center': 0.858369, 'width': 0.11119, 'height': 0.0528199}, {'class_id': 3, 'x_center': 0.943811, 'y_center': 0.805186, 'width': 0.107986, 'height': 0.0597775}, {'class_id': 2, 'x_center': 0.160776, 'y_center': 0.409282, 'width': 0.126131, 'height': 0.0769545}, {'class_id': 2, 'x_center': 0.425809, 'y_center': 0.409865, 'width': 0.130608, 'height': 0.0766362}, {'class_id': 3, 'x_center': 0.054324, 'y_center': 0.304185, 'width': 0.107538, 'height': 0.0500395}, {'class_id': 3, 'x_center': 0.521522, 'y_center': 0.293925, 'width': 0.111705, 'height': 0.0572874}, {'class_id': 0, 'x_center': 0.289394, 'y_center': 0.0849268, 'width': 0.204912, 'height': 0.169854}, {'class_id': 0, 'x_center': 0.820761, 'y_center': 0.0786463, 'width': 0.196731, 'height': 0.157211}, {'class_id': 0, 'x_center': 0.519883, 'y_center': 0.639313, 'width': 0.190459, 'height': 0.205006}, {'class_id': 2, 'x_center': 0.723783, 'y_center': 0.358744, 'width': 0.12835, 'height': 0.0780377}, {'class_id': 4, 'x_center': 0.115749, 'y_center': 0.63243, 'width': 0.231497, 'height': 0.15807}, {'class_id': 0, 'x_center': 0.538696, 'y_center': 0.9244, 'width': 0.212681, 'height': 0.138766}, {'class_id': 3, 'x_center': 0.0556471, 'y_center': 0.325509, 'width': 0.111294, 'height': 0.0904437}, {'class_id': 1, 'x_center': 0.76356, 'y_center': 0.728156, 'width': 0.120691, 'height': 0.0705603}]\n",
      "[{'class_id': 3, 'coordinates': (0.87296, 0.357654, 0.11177, 0.0563128), 'text': ['Date-Time']}, {'class_id': 3, 'coordinates': (0.871976, 0.634134, 0.111798, 0.0522716), 'text': ['model']}, {'class_id': 3, 'coordinates': (0.828609, 0.268981, 0.113726, 0.0573498), 'text': ['Number of Stars']}, {'class_id': 3, 'coordinates': (0.244417, 0.331986, 0.10925, 0.0546052), 'text': ['End Date']}, {'class_id': 3, 'coordinates': (0.775972, 0.49764, 0.113263, 0.0546151), 'text': ['Description']}, {'class_id': 3, 'coordinates': (0.808848, 0.858369, 0.11119, 0.0528199), 'text': ['year']}, {'class_id': 3, 'coordinates': (0.943811, 0.805186, 0.107986, 0.0597775), 'text': ['make']}, {'class_id': 2, 'coordinates': (0.160776, 0.409282, 0.126131, 0.0769545), 'text': ['Rents']}, {'class_id': 2, 'coordinates': (0.425809, 0.409865, 0.130608, 0.0766362), 'text': ['Owns']}, {'class_id': 3, 'coordinates': (0.054324, 0.304185, 0.107538, 0.0500395), 'text': ['Start Date']}, {'class_id': 3, 'coordinates': (0.521522, 0.293925, 0.111705, 0.0572874), 'text': ['Starting mileage']}, {'class_id': 0, 'coordinates': (0.289394, 0.0849268, 0.204912, 0.169854), 'text': ['Driver', 'License_Number', 'PK', 'State', 'name', 'age']}, {'class_id': 0, 'coordinates': (0.820761, 0.0786463, 0.196731, 0.157211), 'text': ['Customer', 'PK', 'customerd', 'name', 'creditCardNumber']}, {'class_id': 0, 'coordinates': (0.519883, 0.639313, 0.190459, 0.205006), 'text': ['Gal', 'PK', 'VIN Number', 'make', 'model', 'year', 'current', 'mileage']}, {'class_id': 2, 'coordinates': (0.723783, 0.358744, 0.12835, 0.0780377), 'text': ['Review']}, {'class_id': 4, 'coordinates': (0.115749, 0.63243, 0.231497, 0.15807), 'text': ['Rent', 'due date', 'number of installments']}, {'class_id': 0, 'coordinates': (0.538696, 0.9244, 0.212681, 0.138766), 'text': ['Recall', 'description', 'date']}, {'class_id': 3, 'coordinates': (0.0556471, 0.325509, 0.111294, 0.0904437), 'text': ['Start Date']}, {'class_id': 1, 'coordinates': (0.76356, 0.728156, 0.120691, 0.0705603), 'text': ['recalls']}, {'class_id': 3, 'coordinates': (0.87296, 0.357654, 0.11177, 0.0563128), 'text': ['Date-Time']}, {'class_id': 3, 'coordinates': (0.871976, 0.634134, 0.111798, 0.0522716), 'text': ['model']}, {'class_id': 3, 'coordinates': (0.828609, 0.268981, 0.113726, 0.0573498), 'text': ['Number of Stars']}, {'class_id': 3, 'coordinates': (0.244417, 0.331986, 0.10925, 0.0546052), 'text': ['End Date']}, {'class_id': 3, 'coordinates': (0.775972, 0.49764, 0.113263, 0.0546151), 'text': ['Description']}, {'class_id': 3, 'coordinates': (0.808848, 0.858369, 0.11119, 0.0528199), 'text': ['year']}, {'class_id': 3, 'coordinates': (0.943811, 0.805186, 0.107986, 0.0597775), 'text': ['make']}, {'class_id': 2, 'coordinates': (0.160776, 0.409282, 0.126131, 0.0769545), 'text': ['Rents']}, {'class_id': 2, 'coordinates': (0.425809, 0.409865, 0.130608, 0.0766362), 'text': ['Owns']}, {'class_id': 3, 'coordinates': (0.054324, 0.304185, 0.107538, 0.0500395), 'text': ['Start Date']}, {'class_id': 3, 'coordinates': (0.521522, 0.293925, 0.111705, 0.0572874), 'text': ['Starting mileage']}, {'class_id': 0, 'coordinates': (0.289394, 0.0849268, 0.204912, 0.169854), 'text': ['Driver', 'License_Number', 'PK', 'State', 'name', 'age']}, {'class_id': 0, 'coordinates': (0.820761, 0.0786463, 0.196731, 0.157211), 'text': ['Customer', 'PK', 'customerd', 'name', 'creditCardNumber']}, {'class_id': 0, 'coordinates': (0.519883, 0.639313, 0.190459, 0.205006), 'text': ['Gal', 'PK', 'VIN Number', 'make', 'model', 'year', 'current', 'mileage']}, {'class_id': 2, 'coordinates': (0.723783, 0.358744, 0.12835, 0.0780377), 'text': ['Review']}, {'class_id': 4, 'coordinates': (0.115749, 0.63243, 0.231497, 0.15807), 'text': ['Rent', 'due date', 'number of installments']}, {'class_id': 0, 'coordinates': (0.538696, 0.9244, 0.212681, 0.138766), 'text': ['Recall', 'description', 'date']}, {'class_id': 3, 'coordinates': (0.0556471, 0.325509, 0.111294, 0.0904437), 'text': ['Start Date']}, {'class_id': 1, 'coordinates': (0.76356, 0.728156, 0.120691, 0.0705603), 'text': ['recalls']}, {'class_id': 3, 'coordinates': (0.87296, 0.357654, 0.11177, 0.0563128), 'text': ['Date-Time']}, {'class_id': 3, 'coordinates': (0.871976, 0.634134, 0.111798, 0.0522716), 'text': ['model']}, {'class_id': 3, 'coordinates': (0.828609, 0.268981, 0.113726, 0.0573498), 'text': ['Number of Stars']}, {'class_id': 3, 'coordinates': (0.244417, 0.331986, 0.10925, 0.0546052), 'text': ['End Date']}, {'class_id': 3, 'coordinates': (0.775972, 0.49764, 0.113263, 0.0546151), 'text': ['Description']}, {'class_id': 3, 'coordinates': (0.808848, 0.858369, 0.11119, 0.0528199), 'text': ['year']}, {'class_id': 3, 'coordinates': (0.943811, 0.805186, 0.107986, 0.0597775), 'text': ['make']}, {'class_id': 2, 'coordinates': (0.160776, 0.409282, 0.126131, 0.0769545), 'text': ['Rents']}, {'class_id': 2, 'coordinates': (0.425809, 0.409865, 0.130608, 0.0766362), 'text': ['Owns']}, {'class_id': 3, 'coordinates': (0.054324, 0.304185, 0.107538, 0.0500395), 'text': ['Start Date']}, {'class_id': 3, 'coordinates': (0.521522, 0.293925, 0.111705, 0.0572874), 'text': ['Starting mileage']}, {'class_id': 0, 'coordinates': (0.289394, 0.0849268, 0.204912, 0.169854), 'text': ['Driver', 'License_Number', 'PK', 'State', 'name', 'age']}, {'class_id': 0, 'coordinates': (0.820761, 0.0786463, 0.196731, 0.157211), 'text': ['Customer', 'PK', 'customerd', 'name', 'creditCardNumber']}, {'class_id': 0, 'coordinates': (0.519883, 0.639313, 0.190459, 0.205006), 'text': ['Gal', 'PK', 'VIN Number', 'make', 'model', 'year', 'current', 'mileage']}, {'class_id': 2, 'coordinates': (0.723783, 0.358744, 0.12835, 0.0780377), 'text': ['Review']}, {'class_id': 4, 'coordinates': (0.115749, 0.63243, 0.231497, 0.15807), 'text': ['Rent', 'due date', 'number of installments']}, {'class_id': 0, 'coordinates': (0.538696, 0.9244, 0.212681, 0.138766), 'text': ['Recall', 'description', 'date']}, {'class_id': 3, 'coordinates': (0.0556471, 0.325509, 0.111294, 0.0904437), 'text': ['Start Date']}, {'class_id': 1, 'coordinates': (0.76356, 0.728156, 0.120691, 0.0705603), 'text': ['recalls']}]\n",
      "OCR results for 3.png:\n",
      "Class ID: 3, Coordinates: (0.87296, 0.357654, 0.11177, 0.0563128), Extracted Text: ['Date-Time']\n",
      "Class ID: 3, Coordinates: (0.871976, 0.634134, 0.111798, 0.0522716), Extracted Text: ['model']\n",
      "Class ID: 3, Coordinates: (0.828609, 0.268981, 0.113726, 0.0573498), Extracted Text: ['Number of Stars']\n",
      "Class ID: 3, Coordinates: (0.244417, 0.331986, 0.10925, 0.0546052), Extracted Text: ['End Date']\n",
      "Class ID: 3, Coordinates: (0.775972, 0.49764, 0.113263, 0.0546151), Extracted Text: ['Description']\n",
      "Class ID: 3, Coordinates: (0.808848, 0.858369, 0.11119, 0.0528199), Extracted Text: ['year']\n",
      "Class ID: 3, Coordinates: (0.943811, 0.805186, 0.107986, 0.0597775), Extracted Text: ['make']\n",
      "Class ID: 2, Coordinates: (0.160776, 0.409282, 0.126131, 0.0769545), Extracted Text: ['Rents']\n",
      "Class ID: 2, Coordinates: (0.425809, 0.409865, 0.130608, 0.0766362), Extracted Text: ['Owns']\n",
      "Class ID: 3, Coordinates: (0.054324, 0.304185, 0.107538, 0.0500395), Extracted Text: ['Start Date']\n",
      "Class ID: 3, Coordinates: (0.521522, 0.293925, 0.111705, 0.0572874), Extracted Text: ['Starting mileage']\n",
      "Class ID: 0, Coordinates: (0.289394, 0.0849268, 0.204912, 0.169854), Extracted Text: ['Driver', 'License_Number', 'PK', 'State', 'name', 'age']\n",
      "Class ID: 0, Coordinates: (0.820761, 0.0786463, 0.196731, 0.157211), Extracted Text: ['Customer', 'PK', 'customerd', 'name', 'creditCardNumber']\n",
      "Class ID: 0, Coordinates: (0.519883, 0.639313, 0.190459, 0.205006), Extracted Text: ['Gal', 'PK', 'VIN Number', 'make', 'model', 'year', 'current', 'mileage']\n",
      "Class ID: 2, Coordinates: (0.723783, 0.358744, 0.12835, 0.0780377), Extracted Text: ['Review']\n",
      "Class ID: 4, Coordinates: (0.115749, 0.63243, 0.231497, 0.15807), Extracted Text: ['Rent', 'due date', 'number of installments']\n",
      "Class ID: 0, Coordinates: (0.538696, 0.9244, 0.212681, 0.138766), Extracted Text: ['Recall', 'description', 'date']\n",
      "Class ID: 3, Coordinates: (0.0556471, 0.325509, 0.111294, 0.0904437), Extracted Text: ['Start Date']\n",
      "Class ID: 1, Coordinates: (0.76356, 0.728156, 0.120691, 0.0705603), Extracted Text: ['recalls']\n",
      "Class ID: 3, Coordinates: (0.87296, 0.357654, 0.11177, 0.0563128), Extracted Text: ['Date-Time']\n",
      "Class ID: 3, Coordinates: (0.871976, 0.634134, 0.111798, 0.0522716), Extracted Text: ['model']\n",
      "Class ID: 3, Coordinates: (0.828609, 0.268981, 0.113726, 0.0573498), Extracted Text: ['Number of Stars']\n",
      "Class ID: 3, Coordinates: (0.244417, 0.331986, 0.10925, 0.0546052), Extracted Text: ['End Date']\n",
      "Class ID: 3, Coordinates: (0.775972, 0.49764, 0.113263, 0.0546151), Extracted Text: ['Description']\n",
      "Class ID: 3, Coordinates: (0.808848, 0.858369, 0.11119, 0.0528199), Extracted Text: ['year']\n",
      "Class ID: 3, Coordinates: (0.943811, 0.805186, 0.107986, 0.0597775), Extracted Text: ['make']\n",
      "Class ID: 2, Coordinates: (0.160776, 0.409282, 0.126131, 0.0769545), Extracted Text: ['Rents']\n",
      "Class ID: 2, Coordinates: (0.425809, 0.409865, 0.130608, 0.0766362), Extracted Text: ['Owns']\n",
      "Class ID: 3, Coordinates: (0.054324, 0.304185, 0.107538, 0.0500395), Extracted Text: ['Start Date']\n",
      "Class ID: 3, Coordinates: (0.521522, 0.293925, 0.111705, 0.0572874), Extracted Text: ['Starting mileage']\n",
      "Class ID: 0, Coordinates: (0.289394, 0.0849268, 0.204912, 0.169854), Extracted Text: ['Driver', 'License_Number', 'PK', 'State', 'name', 'age']\n",
      "Class ID: 0, Coordinates: (0.820761, 0.0786463, 0.196731, 0.157211), Extracted Text: ['Customer', 'PK', 'customerd', 'name', 'creditCardNumber']\n",
      "Class ID: 0, Coordinates: (0.519883, 0.639313, 0.190459, 0.205006), Extracted Text: ['Gal', 'PK', 'VIN Number', 'make', 'model', 'year', 'current', 'mileage']\n",
      "Class ID: 2, Coordinates: (0.723783, 0.358744, 0.12835, 0.0780377), Extracted Text: ['Review']\n",
      "Class ID: 4, Coordinates: (0.115749, 0.63243, 0.231497, 0.15807), Extracted Text: ['Rent', 'due date', 'number of installments']\n",
      "Class ID: 0, Coordinates: (0.538696, 0.9244, 0.212681, 0.138766), Extracted Text: ['Recall', 'description', 'date']\n",
      "Class ID: 3, Coordinates: (0.0556471, 0.325509, 0.111294, 0.0904437), Extracted Text: ['Start Date']\n",
      "Class ID: 1, Coordinates: (0.76356, 0.728156, 0.120691, 0.0705603), Extracted Text: ['recalls']\n",
      "Class ID: 3, Coordinates: (0.87296, 0.357654, 0.11177, 0.0563128), Extracted Text: ['Date-Time']\n",
      "Class ID: 3, Coordinates: (0.871976, 0.634134, 0.111798, 0.0522716), Extracted Text: ['model']\n",
      "Class ID: 3, Coordinates: (0.828609, 0.268981, 0.113726, 0.0573498), Extracted Text: ['Number of Stars']\n",
      "Class ID: 3, Coordinates: (0.244417, 0.331986, 0.10925, 0.0546052), Extracted Text: ['End Date']\n",
      "Class ID: 3, Coordinates: (0.775972, 0.49764, 0.113263, 0.0546151), Extracted Text: ['Description']\n",
      "Class ID: 3, Coordinates: (0.808848, 0.858369, 0.11119, 0.0528199), Extracted Text: ['year']\n",
      "Class ID: 3, Coordinates: (0.943811, 0.805186, 0.107986, 0.0597775), Extracted Text: ['make']\n",
      "Class ID: 2, Coordinates: (0.160776, 0.409282, 0.126131, 0.0769545), Extracted Text: ['Rents']\n",
      "Class ID: 2, Coordinates: (0.425809, 0.409865, 0.130608, 0.0766362), Extracted Text: ['Owns']\n",
      "Class ID: 3, Coordinates: (0.054324, 0.304185, 0.107538, 0.0500395), Extracted Text: ['Start Date']\n",
      "Class ID: 3, Coordinates: (0.521522, 0.293925, 0.111705, 0.0572874), Extracted Text: ['Starting mileage']\n",
      "Class ID: 0, Coordinates: (0.289394, 0.0849268, 0.204912, 0.169854), Extracted Text: ['Driver', 'License_Number', 'PK', 'State', 'name', 'age']\n",
      "Class ID: 0, Coordinates: (0.820761, 0.0786463, 0.196731, 0.157211), Extracted Text: ['Customer', 'PK', 'customerd', 'name', 'creditCardNumber']\n",
      "Class ID: 0, Coordinates: (0.519883, 0.639313, 0.190459, 0.205006), Extracted Text: ['Gal', 'PK', 'VIN Number', 'make', 'model', 'year', 'current', 'mileage']\n",
      "Class ID: 2, Coordinates: (0.723783, 0.358744, 0.12835, 0.0780377), Extracted Text: ['Review']\n",
      "Class ID: 4, Coordinates: (0.115749, 0.63243, 0.231497, 0.15807), Extracted Text: ['Rent', 'due date', 'number of installments']\n",
      "Class ID: 0, Coordinates: (0.538696, 0.9244, 0.212681, 0.138766), Extracted Text: ['Recall', 'description', 'date']\n",
      "Class ID: 3, Coordinates: (0.0556471, 0.325509, 0.111294, 0.0904437), Extracted Text: ['Start Date']\n",
      "Class ID: 1, Coordinates: (0.76356, 0.728156, 0.120691, 0.0705603), Extracted Text: ['recalls']\n",
      "----------------------------------------\n",
      "/content/drive/MyDrive/cs478ModelTraining/gradescope_predictions_retrained_2nd_model/labels/\n",
      "4.txt\n",
      "/content/drive/MyDrive/cs478ModelTraining/gradescope_predictions_retrained_2nd_model/labels/4.txt\n",
      "[{'class_id': 3, 'x_center': 0.305457, 'y_center': 0.300711, 'width': 0.12003, 'height': 0.0607607}, {'class_id': 3, 'x_center': 0.673976, 'y_center': 0.537681, 'width': 0.118119, 'height': 0.0484476}, {'class_id': 4, 'x_center': 0.62558, 'y_center': 0.346606, 'width': 0.32688, 'height': 0.21566}, {'class_id': 3, 'x_center': 0.182918, 'y_center': 0.300537, 'width': 0.117712, 'height': 0.0591817}, {'class_id': 2, 'x_center': 0.253418, 'y_center': 0.414591, 'width': 0.13772, 'height': 0.0696201}, {'class_id': 2, 'x_center': 0.480088, 'y_center': 0.534196, 'width': 0.145345, 'height': 0.0686356}, {'class_id': 1, 'x_center': 0.50734, 'y_center': 0.808016, 'width': 0.140328, 'height': 0.0712069}, {'class_id': 1, 'x_center': 0.415992, 'y_center': 0.679146, 'width': 0.132731, 'height': 0.0694149}, {'class_id': 1, 'x_center': 0.47428, 'y_center': 0.119999, 'width': 0.139862, 'height': 0.0700498}, {'class_id': 0, 'x_center': 0.764148, 'y_center': 0.721579, 'width': 0.293782, 'height': 0.218077}, {'class_id': 0, 'x_center': 0.187184, 'y_center': 0.177713, 'width': 0.297027, 'height': 0.179568}, {'class_id': 1, 'x_center': 0.889305, 'y_center': 0.425922, 'width': 0.137866, 'height': 0.0686145}, {'class_id': 0, 'x_center': 0.809952, 'y_center': 0.0806107, 'width': 0.288135, 'height': 0.154264}, {'class_id': 1, 'x_center': 0.867527, 'y_center': 0.230092, 'width': 0.140086, 'height': 0.0686777}, {'class_id': 1, 'x_center': 0.0893539, 'y_center': 0.424286, 'width': 0.138777, 'height': 0.0697548}, {'class_id': 4, 'x_center': 0.171601, 'y_center': 0.624069, 'width': 0.255753, 'height': 0.122654}, {'class_id': 2, 'x_center': 0.089728, 'y_center': 0.424278, 'width': 0.13824, 'height': 0.0715417}, {'class_id': 4, 'x_center': 0.806182, 'y_center': 0.932289, 'width': 0.235103, 'height': 0.135422}, {'class_id': 3, 'x_center': 0.305457, 'y_center': 0.300711, 'width': 0.12003, 'height': 0.0607607}, {'class_id': 3, 'x_center': 0.673976, 'y_center': 0.537681, 'width': 0.118119, 'height': 0.0484476}, {'class_id': 4, 'x_center': 0.62558, 'y_center': 0.346606, 'width': 0.32688, 'height': 0.21566}, {'class_id': 3, 'x_center': 0.182918, 'y_center': 0.300537, 'width': 0.117712, 'height': 0.0591817}, {'class_id': 2, 'x_center': 0.253418, 'y_center': 0.414591, 'width': 0.13772, 'height': 0.0696201}, {'class_id': 2, 'x_center': 0.480088, 'y_center': 0.534196, 'width': 0.145345, 'height': 0.0686356}, {'class_id': 1, 'x_center': 0.50734, 'y_center': 0.808016, 'width': 0.140328, 'height': 0.0712069}, {'class_id': 1, 'x_center': 0.415992, 'y_center': 0.679146, 'width': 0.132731, 'height': 0.0694149}, {'class_id': 1, 'x_center': 0.47428, 'y_center': 0.119999, 'width': 0.139862, 'height': 0.0700498}, {'class_id': 0, 'x_center': 0.764148, 'y_center': 0.721579, 'width': 0.293782, 'height': 0.218077}, {'class_id': 0, 'x_center': 0.187184, 'y_center': 0.177713, 'width': 0.297027, 'height': 0.179568}, {'class_id': 1, 'x_center': 0.889305, 'y_center': 0.425922, 'width': 0.137866, 'height': 0.0686145}, {'class_id': 0, 'x_center': 0.809952, 'y_center': 0.0806107, 'width': 0.288135, 'height': 0.154264}, {'class_id': 1, 'x_center': 0.867527, 'y_center': 0.230092, 'width': 0.140086, 'height': 0.0686777}, {'class_id': 1, 'x_center': 0.0893539, 'y_center': 0.424286, 'width': 0.138777, 'height': 0.0697548}, {'class_id': 4, 'x_center': 0.171601, 'y_center': 0.624069, 'width': 0.255753, 'height': 0.122654}, {'class_id': 2, 'x_center': 0.089728, 'y_center': 0.424278, 'width': 0.13824, 'height': 0.0715417}, {'class_id': 4, 'x_center': 0.806182, 'y_center': 0.932289, 'width': 0.235103, 'height': 0.135422}, {'class_id': 3, 'x_center': 0.305457, 'y_center': 0.300711, 'width': 0.12003, 'height': 0.0607607}, {'class_id': 3, 'x_center': 0.673976, 'y_center': 0.537681, 'width': 0.118119, 'height': 0.0484476}, {'class_id': 4, 'x_center': 0.62558, 'y_center': 0.346606, 'width': 0.32688, 'height': 0.21566}, {'class_id': 3, 'x_center': 0.182918, 'y_center': 0.300537, 'width': 0.117712, 'height': 0.0591817}, {'class_id': 2, 'x_center': 0.253418, 'y_center': 0.414591, 'width': 0.13772, 'height': 0.0696201}, {'class_id': 2, 'x_center': 0.480088, 'y_center': 0.534196, 'width': 0.145345, 'height': 0.0686356}, {'class_id': 1, 'x_center': 0.50734, 'y_center': 0.808016, 'width': 0.140328, 'height': 0.0712069}, {'class_id': 1, 'x_center': 0.415992, 'y_center': 0.679146, 'width': 0.132731, 'height': 0.0694149}, {'class_id': 1, 'x_center': 0.47428, 'y_center': 0.119999, 'width': 0.139862, 'height': 0.0700498}, {'class_id': 0, 'x_center': 0.764148, 'y_center': 0.721579, 'width': 0.293782, 'height': 0.218077}, {'class_id': 0, 'x_center': 0.187184, 'y_center': 0.177713, 'width': 0.297027, 'height': 0.179568}, {'class_id': 1, 'x_center': 0.889305, 'y_center': 0.425922, 'width': 0.137866, 'height': 0.0686145}, {'class_id': 0, 'x_center': 0.809952, 'y_center': 0.0806107, 'width': 0.288135, 'height': 0.154264}, {'class_id': 1, 'x_center': 0.867527, 'y_center': 0.230092, 'width': 0.140086, 'height': 0.0686777}, {'class_id': 1, 'x_center': 0.0893539, 'y_center': 0.424286, 'width': 0.138777, 'height': 0.0697548}, {'class_id': 4, 'x_center': 0.171601, 'y_center': 0.624069, 'width': 0.255753, 'height': 0.122654}, {'class_id': 2, 'x_center': 0.089728, 'y_center': 0.424278, 'width': 0.13824, 'height': 0.0715417}, {'class_id': 4, 'x_center': 0.806182, 'y_center': 0.932289, 'width': 0.235103, 'height': 0.135422}]\n",
      "[{'class_id': 3, 'coordinates': (0.305457, 0.300711, 0.12003, 0.0607607), 'text': ['end_', 'date']}, {'class_id': 3, 'coordinates': (0.673976, 0.537681, 0.118119, 0.0484476), 'text': ['starting_mileage _']}, {'class_id': 4, 'coordinates': (0.62558, 0.346606, 0.32688, 0.21566), 'text': ['Review', 'PK', 'date', 'PK', 'time', 'description', 'num', 'of_stars']}, {'class_id': 3, 'coordinates': (0.182918, 0.300537, 0.117712, 0.0591817), 'text': ['start', 'date']}, {'class_id': 2, 'coordinates': (0.253418, 0.414591, 0.13772, 0.0696201), 'text': ['Rents']}, {'class_id': 2, 'coordinates': (0.480088, 0.534196, 0.145345, 0.0686356), 'text': ['Owns']}, {'class_id': 1, 'coordinates': (0.50734, 0.808016, 0.140328, 0.0712069), 'text': ['Recalled']}, {'class_id': 1, 'coordinates': (0.415992, 0.679146, 0.132731, 0.0694149), 'text': ['For']}, {'class_id': 1, 'coordinates': (0.47428, 0.119999, 0.139862, 0.0700498), 'text': ['Involved']}, {'class_id': 0, 'coordinates': (0.764148, 0.721579, 0.293782, 0.218077), 'text': ['Car', 'PK', 'VIN', 'no', 'make', 'model', 'year', 'current_mileage']}, {'class_id': 0, 'coordinates': (0.187184, 0.177713, 0.297027, 0.179568), 'text': ['Driver', 'PK', 'license', 'no', 'PK', 'state', 'name', 'age']}, {'class_id': 1, 'coordinates': (0.889305, 0.425922, 0.137866, 0.0686145), 'text': ['Involved']}, {'class_id': 0, 'coordinates': (0.809952, 0.0806107, 0.288135, 0.154264), 'text': ['Customer', 'PK', 'customer', 'id', 'name', 'credit', 'card_', 'no']}, {'class_id': 1, 'coordinates': (0.867527, 0.230092, 0.140086, 0.0686777), 'text': ['Writes']}, {'class_id': 1, 'coordinates': (0.0893539, 0.424286, 0.138777, 0.0697548), 'text': ['Pays']}, {'class_id': 4, 'coordinates': (0.171601, 0.624069, 0.255753, 0.122654), 'text': ['Rent_Installment', 'PK', 'date', 'amount']}, {'class_id': 2, 'coordinates': (0.089728, 0.424278, 0.13824, 0.0715417), 'text': ['Pays']}, {'class_id': 4, 'coordinates': (0.806182, 0.932289, 0.235103, 0.135422), 'text': ['Recall', 'PK', 'date', 'PK', 'description']}, {'class_id': 3, 'coordinates': (0.305457, 0.300711, 0.12003, 0.0607607), 'text': ['end_', 'date']}, {'class_id': 3, 'coordinates': (0.673976, 0.537681, 0.118119, 0.0484476), 'text': ['starting_mileage _']}, {'class_id': 4, 'coordinates': (0.62558, 0.346606, 0.32688, 0.21566), 'text': ['Review', 'PK', 'date', 'PK', 'time', 'description', 'num', 'of_stars']}, {'class_id': 3, 'coordinates': (0.182918, 0.300537, 0.117712, 0.0591817), 'text': ['start', 'date']}, {'class_id': 2, 'coordinates': (0.253418, 0.414591, 0.13772, 0.0696201), 'text': ['Rents']}, {'class_id': 2, 'coordinates': (0.480088, 0.534196, 0.145345, 0.0686356), 'text': ['Owns']}, {'class_id': 1, 'coordinates': (0.50734, 0.808016, 0.140328, 0.0712069), 'text': ['Recalled']}, {'class_id': 1, 'coordinates': (0.415992, 0.679146, 0.132731, 0.0694149), 'text': ['For']}, {'class_id': 1, 'coordinates': (0.47428, 0.119999, 0.139862, 0.0700498), 'text': ['Involved']}, {'class_id': 0, 'coordinates': (0.764148, 0.721579, 0.293782, 0.218077), 'text': ['Car', 'PK', 'VIN', 'no', 'make', 'model', 'year', 'current_mileage']}, {'class_id': 0, 'coordinates': (0.187184, 0.177713, 0.297027, 0.179568), 'text': ['Driver', 'PK', 'license', 'no', 'PK', 'state', 'name', 'age']}, {'class_id': 1, 'coordinates': (0.889305, 0.425922, 0.137866, 0.0686145), 'text': ['Involved']}, {'class_id': 0, 'coordinates': (0.809952, 0.0806107, 0.288135, 0.154264), 'text': ['Customer', 'PK', 'customer', 'id', 'name', 'credit', 'card_', 'no']}, {'class_id': 1, 'coordinates': (0.867527, 0.230092, 0.140086, 0.0686777), 'text': ['Writes']}, {'class_id': 1, 'coordinates': (0.0893539, 0.424286, 0.138777, 0.0697548), 'text': ['Pays']}, {'class_id': 4, 'coordinates': (0.171601, 0.624069, 0.255753, 0.122654), 'text': ['Rent_Installment', 'PK', 'date', 'amount']}, {'class_id': 2, 'coordinates': (0.089728, 0.424278, 0.13824, 0.0715417), 'text': ['Pays']}, {'class_id': 4, 'coordinates': (0.806182, 0.932289, 0.235103, 0.135422), 'text': ['Recall', 'PK', 'date', 'PK', 'description']}, {'class_id': 3, 'coordinates': (0.305457, 0.300711, 0.12003, 0.0607607), 'text': ['end_', 'date']}, {'class_id': 3, 'coordinates': (0.673976, 0.537681, 0.118119, 0.0484476), 'text': ['starting_mileage _']}, {'class_id': 4, 'coordinates': (0.62558, 0.346606, 0.32688, 0.21566), 'text': ['Review', 'PK', 'date', 'PK', 'time', 'description', 'num', 'of_stars']}, {'class_id': 3, 'coordinates': (0.182918, 0.300537, 0.117712, 0.0591817), 'text': ['start', 'date']}, {'class_id': 2, 'coordinates': (0.253418, 0.414591, 0.13772, 0.0696201), 'text': ['Rents']}, {'class_id': 2, 'coordinates': (0.480088, 0.534196, 0.145345, 0.0686356), 'text': ['Owns']}, {'class_id': 1, 'coordinates': (0.50734, 0.808016, 0.140328, 0.0712069), 'text': ['Recalled']}, {'class_id': 1, 'coordinates': (0.415992, 0.679146, 0.132731, 0.0694149), 'text': ['For']}, {'class_id': 1, 'coordinates': (0.47428, 0.119999, 0.139862, 0.0700498), 'text': ['Involved']}, {'class_id': 0, 'coordinates': (0.764148, 0.721579, 0.293782, 0.218077), 'text': ['Car', 'PK', 'VIN', 'no', 'make', 'model', 'year', 'current_mileage']}, {'class_id': 0, 'coordinates': (0.187184, 0.177713, 0.297027, 0.179568), 'text': ['Driver', 'PK', 'license', 'no', 'PK', 'state', 'name', 'age']}, {'class_id': 1, 'coordinates': (0.889305, 0.425922, 0.137866, 0.0686145), 'text': ['Involved']}, {'class_id': 0, 'coordinates': (0.809952, 0.0806107, 0.288135, 0.154264), 'text': ['Customer', 'PK', 'customer', 'id', 'name', 'credit', 'card_', 'no']}, {'class_id': 1, 'coordinates': (0.867527, 0.230092, 0.140086, 0.0686777), 'text': ['Writes']}, {'class_id': 1, 'coordinates': (0.0893539, 0.424286, 0.138777, 0.0697548), 'text': ['Pays']}, {'class_id': 4, 'coordinates': (0.171601, 0.624069, 0.255753, 0.122654), 'text': ['Rent_Installment', 'PK', 'date', 'amount']}, {'class_id': 2, 'coordinates': (0.089728, 0.424278, 0.13824, 0.0715417), 'text': ['Pays']}, {'class_id': 4, 'coordinates': (0.806182, 0.932289, 0.235103, 0.135422), 'text': ['Recall', 'PK', 'date', 'PK', 'description']}]\n",
      "OCR results for 4.png:\n",
      "Class ID: 3, Coordinates: (0.305457, 0.300711, 0.12003, 0.0607607), Extracted Text: ['end_date']\n",
      "Class ID: 3, Coordinates: (0.673976, 0.537681, 0.118119, 0.0484476), Extracted Text: ['starting_mileage _']\n",
      "Class ID: 4, Coordinates: (0.62558, 0.346606, 0.32688, 0.21566), Extracted Text: ['Review', 'PK', 'date', 'PK', 'time', 'description', 'num', 'of_stars']\n",
      "Class ID: 3, Coordinates: (0.182918, 0.300537, 0.117712, 0.0591817), Extracted Text: ['start date']\n",
      "Class ID: 2, Coordinates: (0.253418, 0.414591, 0.13772, 0.0696201), Extracted Text: ['Rents']\n",
      "Class ID: 2, Coordinates: (0.480088, 0.534196, 0.145345, 0.0686356), Extracted Text: ['Owns']\n",
      "Class ID: 1, Coordinates: (0.50734, 0.808016, 0.140328, 0.0712069), Extracted Text: ['Recalled']\n",
      "Class ID: 1, Coordinates: (0.415992, 0.679146, 0.132731, 0.0694149), Extracted Text: ['For']\n",
      "Class ID: 1, Coordinates: (0.47428, 0.119999, 0.139862, 0.0700498), Extracted Text: ['Involved']\n",
      "Class ID: 0, Coordinates: (0.764148, 0.721579, 0.293782, 0.218077), Extracted Text: ['Car', 'PK', 'VIN', 'no', 'make', 'model', 'year', 'current_mileage']\n",
      "Class ID: 0, Coordinates: (0.187184, 0.177713, 0.297027, 0.179568), Extracted Text: ['Driver', 'PK', 'license', 'no', 'PK', 'state', 'name', 'age']\n",
      "Class ID: 1, Coordinates: (0.889305, 0.425922, 0.137866, 0.0686145), Extracted Text: ['Involved']\n",
      "Class ID: 0, Coordinates: (0.809952, 0.0806107, 0.288135, 0.154264), Extracted Text: ['Customer', 'PK', 'customer', 'id', 'name', 'credit', 'card_', 'no']\n",
      "Class ID: 1, Coordinates: (0.867527, 0.230092, 0.140086, 0.0686777), Extracted Text: ['Writes']\n",
      "Class ID: 1, Coordinates: (0.0893539, 0.424286, 0.138777, 0.0697548), Extracted Text: ['Pays']\n",
      "Class ID: 4, Coordinates: (0.171601, 0.624069, 0.255753, 0.122654), Extracted Text: ['Rent_Installment', 'PK', 'date', 'amount']\n",
      "Class ID: 2, Coordinates: (0.089728, 0.424278, 0.13824, 0.0715417), Extracted Text: ['Pays']\n",
      "Class ID: 4, Coordinates: (0.806182, 0.932289, 0.235103, 0.135422), Extracted Text: ['Recall', 'PK', 'date', 'PK', 'description']\n",
      "Class ID: 3, Coordinates: (0.305457, 0.300711, 0.12003, 0.0607607), Extracted Text: ['end_date']\n",
      "Class ID: 3, Coordinates: (0.673976, 0.537681, 0.118119, 0.0484476), Extracted Text: ['starting_mileage _']\n",
      "Class ID: 4, Coordinates: (0.62558, 0.346606, 0.32688, 0.21566), Extracted Text: ['Review', 'PK', 'date', 'PK', 'time', 'description', 'num', 'of_stars']\n",
      "Class ID: 3, Coordinates: (0.182918, 0.300537, 0.117712, 0.0591817), Extracted Text: ['start date']\n",
      "Class ID: 2, Coordinates: (0.253418, 0.414591, 0.13772, 0.0696201), Extracted Text: ['Rents']\n",
      "Class ID: 2, Coordinates: (0.480088, 0.534196, 0.145345, 0.0686356), Extracted Text: ['Owns']\n",
      "Class ID: 1, Coordinates: (0.50734, 0.808016, 0.140328, 0.0712069), Extracted Text: ['Recalled']\n",
      "Class ID: 1, Coordinates: (0.415992, 0.679146, 0.132731, 0.0694149), Extracted Text: ['For']\n",
      "Class ID: 1, Coordinates: (0.47428, 0.119999, 0.139862, 0.0700498), Extracted Text: ['Involved']\n",
      "Class ID: 0, Coordinates: (0.764148, 0.721579, 0.293782, 0.218077), Extracted Text: ['Car', 'PK', 'VIN', 'no', 'make', 'model', 'year', 'current_mileage']\n",
      "Class ID: 0, Coordinates: (0.187184, 0.177713, 0.297027, 0.179568), Extracted Text: ['Driver', 'PK', 'license', 'no', 'PK', 'state', 'name', 'age']\n",
      "Class ID: 1, Coordinates: (0.889305, 0.425922, 0.137866, 0.0686145), Extracted Text: ['Involved']\n",
      "Class ID: 0, Coordinates: (0.809952, 0.0806107, 0.288135, 0.154264), Extracted Text: ['Customer', 'PK', 'customer', 'id', 'name', 'credit', 'card_', 'no']\n",
      "Class ID: 1, Coordinates: (0.867527, 0.230092, 0.140086, 0.0686777), Extracted Text: ['Writes']\n",
      "Class ID: 1, Coordinates: (0.0893539, 0.424286, 0.138777, 0.0697548), Extracted Text: ['Pays']\n",
      "Class ID: 4, Coordinates: (0.171601, 0.624069, 0.255753, 0.122654), Extracted Text: ['Rent_Installment', 'PK', 'date', 'amount']\n",
      "Class ID: 2, Coordinates: (0.089728, 0.424278, 0.13824, 0.0715417), Extracted Text: ['Pays']\n",
      "Class ID: 4, Coordinates: (0.806182, 0.932289, 0.235103, 0.135422), Extracted Text: ['Recall', 'PK', 'date', 'PK', 'description']\n",
      "Class ID: 3, Coordinates: (0.305457, 0.300711, 0.12003, 0.0607607), Extracted Text: ['end_date']\n",
      "Class ID: 3, Coordinates: (0.673976, 0.537681, 0.118119, 0.0484476), Extracted Text: ['starting_mileage _']\n",
      "Class ID: 4, Coordinates: (0.62558, 0.346606, 0.32688, 0.21566), Extracted Text: ['Review', 'PK', 'date', 'PK', 'time', 'description', 'num', 'of_stars']\n",
      "Class ID: 3, Coordinates: (0.182918, 0.300537, 0.117712, 0.0591817), Extracted Text: ['start date']\n",
      "Class ID: 2, Coordinates: (0.253418, 0.414591, 0.13772, 0.0696201), Extracted Text: ['Rents']\n",
      "Class ID: 2, Coordinates: (0.480088, 0.534196, 0.145345, 0.0686356), Extracted Text: ['Owns']\n",
      "Class ID: 1, Coordinates: (0.50734, 0.808016, 0.140328, 0.0712069), Extracted Text: ['Recalled']\n",
      "Class ID: 1, Coordinates: (0.415992, 0.679146, 0.132731, 0.0694149), Extracted Text: ['For']\n",
      "Class ID: 1, Coordinates: (0.47428, 0.119999, 0.139862, 0.0700498), Extracted Text: ['Involved']\n",
      "Class ID: 0, Coordinates: (0.764148, 0.721579, 0.293782, 0.218077), Extracted Text: ['Car', 'PK', 'VIN', 'no', 'make', 'model', 'year', 'current_mileage']\n",
      "Class ID: 0, Coordinates: (0.187184, 0.177713, 0.297027, 0.179568), Extracted Text: ['Driver', 'PK', 'license', 'no', 'PK', 'state', 'name', 'age']\n",
      "Class ID: 1, Coordinates: (0.889305, 0.425922, 0.137866, 0.0686145), Extracted Text: ['Involved']\n",
      "Class ID: 0, Coordinates: (0.809952, 0.0806107, 0.288135, 0.154264), Extracted Text: ['Customer', 'PK', 'customer', 'id', 'name', 'credit', 'card_', 'no']\n",
      "Class ID: 1, Coordinates: (0.867527, 0.230092, 0.140086, 0.0686777), Extracted Text: ['Writes']\n",
      "Class ID: 1, Coordinates: (0.0893539, 0.424286, 0.138777, 0.0697548), Extracted Text: ['Pays']\n",
      "Class ID: 4, Coordinates: (0.171601, 0.624069, 0.255753, 0.122654), Extracted Text: ['Rent_Installment', 'PK', 'date', 'amount']\n",
      "Class ID: 2, Coordinates: (0.089728, 0.424278, 0.13824, 0.0715417), Extracted Text: ['Pays']\n",
      "Class ID: 4, Coordinates: (0.806182, 0.932289, 0.235103, 0.135422), Extracted Text: ['Recall', 'PK', 'date', 'PK', 'description']\n",
      "----------------------------------------\n",
      "/content/drive/MyDrive/cs478ModelTraining/gradescope_predictions_retrained_2nd_model/labels/\n",
      "5.txt\n",
      "/content/drive/MyDrive/cs478ModelTraining/gradescope_predictions_retrained_2nd_model/labels/5.txt\n",
      "[{'class_id': 2, 'x_center': 0.474385, 'y_center': 0.453923, 'width': 0.106641, 'height': 0.115103}, {'class_id': 4, 'x_center': 0.828659, 'y_center': 0.526398, 'width': 0.295333, 'height': 0.188948}, {'class_id': 1, 'x_center': 0.824814, 'y_center': 0.296858, 'width': 0.0956588, 'height': 0.0920253}, {'class_id': 2, 'x_center': 0.825549, 'y_center': 0.724789, 'width': 0.0918878, 'height': 0.0852522}, {'class_id': 4, 'x_center': 0.824129, 'y_center': 0.0940371, 'width': 0.334509, 'height': 0.181403}, {'class_id': 0, 'x_center': 0.173189, 'y_center': 0.624197, 'width': 0.242831, 'height': 0.169501}, {'class_id': 1, 'x_center': 0.482119, 'y_center': 0.0911522, 'width': 0.093753, 'height': 0.0990622}, {'class_id': 2, 'x_center': 0.173993, 'y_center': 0.370929, 'width': 0.147941, 'height': 0.141744}, {'class_id': 0, 'x_center': 0.178652, 'y_center': 0.0995329, 'width': 0.357303, 'height': 0.182733}, {'class_id': 0, 'x_center': 0.598292, 'y_center': 0.91474, 'width': 0.243179, 'height': 0.165195}, {'class_id': 4, 'x_center': 0.598076, 'y_center': 0.91222, 'width': 0.244551, 'height': 0.174365}, {'class_id': 2, 'x_center': 0.474385, 'y_center': 0.453923, 'width': 0.106641, 'height': 0.115103}, {'class_id': 4, 'x_center': 0.828659, 'y_center': 0.526398, 'width': 0.295333, 'height': 0.188948}, {'class_id': 1, 'x_center': 0.824814, 'y_center': 0.296858, 'width': 0.0956588, 'height': 0.0920253}, {'class_id': 2, 'x_center': 0.825549, 'y_center': 0.724789, 'width': 0.0918878, 'height': 0.0852522}, {'class_id': 4, 'x_center': 0.824129, 'y_center': 0.0940371, 'width': 0.334509, 'height': 0.181403}, {'class_id': 0, 'x_center': 0.173189, 'y_center': 0.624197, 'width': 0.242831, 'height': 0.169501}, {'class_id': 1, 'x_center': 0.482119, 'y_center': 0.0911522, 'width': 0.093753, 'height': 0.0990622}, {'class_id': 2, 'x_center': 0.173993, 'y_center': 0.370929, 'width': 0.147941, 'height': 0.141744}, {'class_id': 0, 'x_center': 0.178652, 'y_center': 0.0995329, 'width': 0.357303, 'height': 0.182733}, {'class_id': 0, 'x_center': 0.598292, 'y_center': 0.91474, 'width': 0.243179, 'height': 0.165195}, {'class_id': 4, 'x_center': 0.598076, 'y_center': 0.91222, 'width': 0.244551, 'height': 0.174365}, {'class_id': 2, 'x_center': 0.474385, 'y_center': 0.453923, 'width': 0.106641, 'height': 0.115103}, {'class_id': 4, 'x_center': 0.828659, 'y_center': 0.526398, 'width': 0.295333, 'height': 0.188948}, {'class_id': 1, 'x_center': 0.824814, 'y_center': 0.296858, 'width': 0.0956588, 'height': 0.0920253}, {'class_id': 2, 'x_center': 0.825549, 'y_center': 0.724789, 'width': 0.0918878, 'height': 0.0852522}, {'class_id': 4, 'x_center': 0.824129, 'y_center': 0.0940371, 'width': 0.334509, 'height': 0.181403}, {'class_id': 0, 'x_center': 0.173189, 'y_center': 0.624197, 'width': 0.242831, 'height': 0.169501}, {'class_id': 1, 'x_center': 0.482119, 'y_center': 0.0911522, 'width': 0.093753, 'height': 0.0990622}, {'class_id': 2, 'x_center': 0.173993, 'y_center': 0.370929, 'width': 0.147941, 'height': 0.141744}, {'class_id': 0, 'x_center': 0.178652, 'y_center': 0.0995329, 'width': 0.357303, 'height': 0.182733}, {'class_id': 0, 'x_center': 0.598292, 'y_center': 0.91474, 'width': 0.243179, 'height': 0.165195}, {'class_id': 4, 'x_center': 0.598076, 'y_center': 0.91222, 'width': 0.244551, 'height': 0.174365}]\n",
      "[{'class_id': 2, 'coordinates': (0.474385, 0.453923, 0.106641, 0.115103), 'text': ['quest star']}, {'class_id': 4, 'coordinates': (0.828659, 0.526398, 0.295333, 0.188948), 'text': ['Episode', 'PK', 'episode_number', 'title', 'Jength']}, {'class_id': 1, 'coordinates': (0.824814, 0.296858, 0.0956588, 0.0920253), 'text': ['has']}, {'class_id': 2, 'coordinates': (0.825549, 0.724789, 0.0918878, 0.0852522), 'text': ['has']}, {'class_id': 4, 'coordinates': (0.824129, 0.0940371, 0.334509, 0.181403), 'text': ['Seasons', 'PK', 'number_of episodes', 'start year']}, {'class_id': 0, 'coordinates': (0.173189, 0.624197, 0.242831, 0.169501), 'text': ['Actor', 'name', 'PK', 'birthdate', 'nationality']}, {'class_id': 1, 'coordinates': (0.482119, 0.0911522, 0.093753, 0.0990622), 'text': ['has']}, {'class_id': 2, 'coordinates': (0.173993, 0.370929, 0.147941, 0.141744), 'text': [\"'appear as\", \"'regular'\"]}, {'class_id': 0, 'coordinates': (0.178652, 0.0995329, 0.357303, 0.182733), 'text': ['TV Series', 'name', 'PK', 'network', 'production companies']}, {'class_id': 0, 'coordinates': (0.598292, 0.91474, 0.243179, 0.165195), 'text': ['Writer', 'name', 'PK', 'birthdate', 'talent agency']}, {'class_id': 4, 'coordinates': (0.598076, 0.91222, 0.244551, 0.174365), 'text': ['Writer', 'name', 'PK', 'birthdate', 'talent agency']}, {'class_id': 2, 'coordinates': (0.474385, 0.453923, 0.106641, 0.115103), 'text': ['quest star']}, {'class_id': 4, 'coordinates': (0.828659, 0.526398, 0.295333, 0.188948), 'text': ['Episode', 'PK', 'episode_number', 'title', 'Jength']}, {'class_id': 1, 'coordinates': (0.824814, 0.296858, 0.0956588, 0.0920253), 'text': ['has']}, {'class_id': 2, 'coordinates': (0.825549, 0.724789, 0.0918878, 0.0852522), 'text': ['has']}, {'class_id': 4, 'coordinates': (0.824129, 0.0940371, 0.334509, 0.181403), 'text': ['Seasons', 'PK', 'number_of episodes', 'start year']}, {'class_id': 0, 'coordinates': (0.173189, 0.624197, 0.242831, 0.169501), 'text': ['Actor', 'name', 'PK', 'birthdate', 'nationality']}, {'class_id': 1, 'coordinates': (0.482119, 0.0911522, 0.093753, 0.0990622), 'text': ['has']}, {'class_id': 2, 'coordinates': (0.173993, 0.370929, 0.147941, 0.141744), 'text': [\"'appear as\", \"'regular'\"]}, {'class_id': 0, 'coordinates': (0.178652, 0.0995329, 0.357303, 0.182733), 'text': ['TV Series', 'name', 'PK', 'network', 'production companies']}, {'class_id': 0, 'coordinates': (0.598292, 0.91474, 0.243179, 0.165195), 'text': ['Writer', 'name', 'PK', 'birthdate', 'talent agency']}, {'class_id': 4, 'coordinates': (0.598076, 0.91222, 0.244551, 0.174365), 'text': ['Writer', 'name', 'PK', 'birthdate', 'talent agency']}, {'class_id': 2, 'coordinates': (0.474385, 0.453923, 0.106641, 0.115103), 'text': ['quest star']}, {'class_id': 4, 'coordinates': (0.828659, 0.526398, 0.295333, 0.188948), 'text': ['Episode', 'PK', 'episode_number', 'title', 'Jength']}, {'class_id': 1, 'coordinates': (0.824814, 0.296858, 0.0956588, 0.0920253), 'text': ['has']}, {'class_id': 2, 'coordinates': (0.825549, 0.724789, 0.0918878, 0.0852522), 'text': ['has']}, {'class_id': 4, 'coordinates': (0.824129, 0.0940371, 0.334509, 0.181403), 'text': ['Seasons', 'PK', 'number_of episodes', 'start year']}, {'class_id': 0, 'coordinates': (0.173189, 0.624197, 0.242831, 0.169501), 'text': ['Actor', 'name', 'PK', 'birthdate', 'nationality']}, {'class_id': 1, 'coordinates': (0.482119, 0.0911522, 0.093753, 0.0990622), 'text': ['has']}, {'class_id': 2, 'coordinates': (0.173993, 0.370929, 0.147941, 0.141744), 'text': [\"'appear as\", \"'regular'\"]}, {'class_id': 0, 'coordinates': (0.178652, 0.0995329, 0.357303, 0.182733), 'text': ['TV Series', 'name', 'PK', 'network', 'production companies']}, {'class_id': 0, 'coordinates': (0.598292, 0.91474, 0.243179, 0.165195), 'text': ['Writer', 'name', 'PK', 'birthdate', 'talent agency']}, {'class_id': 4, 'coordinates': (0.598076, 0.91222, 0.244551, 0.174365), 'text': ['Writer', 'name', 'PK', 'birthdate', 'talent agency']}]\n",
      "OCR results for 5.png:\n",
      "Class ID: 2, Coordinates: (0.474385, 0.453923, 0.106641, 0.115103), Extracted Text: ['quest star']\n",
      "Class ID: 4, Coordinates: (0.828659, 0.526398, 0.295333, 0.188948), Extracted Text: ['Episode', 'PK', 'episode_number', 'title', 'Jength']\n",
      "Class ID: 1, Coordinates: (0.824814, 0.296858, 0.0956588, 0.0920253), Extracted Text: ['has']\n",
      "Class ID: 2, Coordinates: (0.825549, 0.724789, 0.0918878, 0.0852522), Extracted Text: ['has']\n",
      "Class ID: 4, Coordinates: (0.824129, 0.0940371, 0.334509, 0.181403), Extracted Text: ['Seasons', 'PK', 'number_of episodes', 'start year']\n",
      "Class ID: 0, Coordinates: (0.173189, 0.624197, 0.242831, 0.169501), Extracted Text: ['Actor', 'name', 'PK', 'birthdate', 'nationality']\n",
      "Class ID: 1, Coordinates: (0.482119, 0.0911522, 0.093753, 0.0990622), Extracted Text: ['has']\n",
      "Class ID: 2, Coordinates: (0.173993, 0.370929, 0.147941, 0.141744), Extracted Text: [\"'appear as 'regular'\"]\n",
      "Class ID: 0, Coordinates: (0.178652, 0.0995329, 0.357303, 0.182733), Extracted Text: ['TV Series', 'name', 'PK', 'network', 'production companies']\n",
      "Class ID: 0, Coordinates: (0.598292, 0.91474, 0.243179, 0.165195), Extracted Text: ['Writer', 'name', 'PK', 'birthdate', 'talent agency']\n",
      "Class ID: 4, Coordinates: (0.598076, 0.91222, 0.244551, 0.174365), Extracted Text: ['Writer', 'name', 'PK', 'birthdate', 'talent agency']\n",
      "Class ID: 2, Coordinates: (0.474385, 0.453923, 0.106641, 0.115103), Extracted Text: ['quest star']\n",
      "Class ID: 4, Coordinates: (0.828659, 0.526398, 0.295333, 0.188948), Extracted Text: ['Episode', 'PK', 'episode_number', 'title', 'Jength']\n",
      "Class ID: 1, Coordinates: (0.824814, 0.296858, 0.0956588, 0.0920253), Extracted Text: ['has']\n",
      "Class ID: 2, Coordinates: (0.825549, 0.724789, 0.0918878, 0.0852522), Extracted Text: ['has']\n",
      "Class ID: 4, Coordinates: (0.824129, 0.0940371, 0.334509, 0.181403), Extracted Text: ['Seasons', 'PK', 'number_of episodes', 'start year']\n",
      "Class ID: 0, Coordinates: (0.173189, 0.624197, 0.242831, 0.169501), Extracted Text: ['Actor', 'name', 'PK', 'birthdate', 'nationality']\n",
      "Class ID: 1, Coordinates: (0.482119, 0.0911522, 0.093753, 0.0990622), Extracted Text: ['has']\n",
      "Class ID: 2, Coordinates: (0.173993, 0.370929, 0.147941, 0.141744), Extracted Text: [\"'appear as 'regular'\"]\n",
      "Class ID: 0, Coordinates: (0.178652, 0.0995329, 0.357303, 0.182733), Extracted Text: ['TV Series', 'name', 'PK', 'network', 'production companies']\n",
      "Class ID: 0, Coordinates: (0.598292, 0.91474, 0.243179, 0.165195), Extracted Text: ['Writer', 'name', 'PK', 'birthdate', 'talent agency']\n",
      "Class ID: 4, Coordinates: (0.598076, 0.91222, 0.244551, 0.174365), Extracted Text: ['Writer', 'name', 'PK', 'birthdate', 'talent agency']\n",
      "Class ID: 2, Coordinates: (0.474385, 0.453923, 0.106641, 0.115103), Extracted Text: ['quest star']\n",
      "Class ID: 4, Coordinates: (0.828659, 0.526398, 0.295333, 0.188948), Extracted Text: ['Episode', 'PK', 'episode_number', 'title', 'Jength']\n",
      "Class ID: 1, Coordinates: (0.824814, 0.296858, 0.0956588, 0.0920253), Extracted Text: ['has']\n",
      "Class ID: 2, Coordinates: (0.825549, 0.724789, 0.0918878, 0.0852522), Extracted Text: ['has']\n",
      "Class ID: 4, Coordinates: (0.824129, 0.0940371, 0.334509, 0.181403), Extracted Text: ['Seasons', 'PK', 'number_of episodes', 'start year']\n",
      "Class ID: 0, Coordinates: (0.173189, 0.624197, 0.242831, 0.169501), Extracted Text: ['Actor', 'name', 'PK', 'birthdate', 'nationality']\n",
      "Class ID: 1, Coordinates: (0.482119, 0.0911522, 0.093753, 0.0990622), Extracted Text: ['has']\n",
      "Class ID: 2, Coordinates: (0.173993, 0.370929, 0.147941, 0.141744), Extracted Text: [\"'appear as 'regular'\"]\n",
      "Class ID: 0, Coordinates: (0.178652, 0.0995329, 0.357303, 0.182733), Extracted Text: ['TV Series', 'name', 'PK', 'network', 'production companies']\n",
      "Class ID: 0, Coordinates: (0.598292, 0.91474, 0.243179, 0.165195), Extracted Text: ['Writer', 'name', 'PK', 'birthdate', 'talent agency']\n",
      "Class ID: 4, Coordinates: (0.598076, 0.91222, 0.244551, 0.174365), Extracted Text: ['Writer', 'name', 'PK', 'birthdate', 'talent agency']\n",
      "----------------------------------------\n",
      "/content/drive/MyDrive/cs478ModelTraining/gradescope_predictions_retrained_2nd_model/labels/\n",
      "6.txt\n",
      "/content/drive/MyDrive/cs478ModelTraining/gradescope_predictions_retrained_2nd_model/labels/6.txt\n",
      "[{'class_id': 0, 'x_center': 0.338156, 'y_center': 0.904966, 'width': 0.211632, 'height': 0.190068}, {'class_id': 0, 'x_center': 0.196877, 'y_center': 0.152762, 'width': 0.217913, 'height': 0.208628}, {'class_id': 0, 'x_center': 0.250762, 'y_center': 0.553796, 'width': 0.218121, 'height': 0.211355}, {'class_id': 2, 'x_center': 0.442156, 'y_center': 0.13997, 'width': 0.100765, 'height': 0.109}, {'class_id': 2, 'x_center': 0.541458, 'y_center': 0.565645, 'width': 0.0992548, 'height': 0.105941}, {'class_id': 4, 'x_center': 0.828324, 'y_center': 0.593594, 'width': 0.226299, 'height': 0.267501}, {'class_id': 2, 'x_center': 0.936234, 'y_center': 0.199869, 'width': 0.083361, 'height': 0.101432}, {'class_id': 4, 'x_center': 0.687093, 'y_center': 0.135978, 'width': 0.220654, 'height': 0.243926}, {'class_id': 2, 'x_center': 0.604455, 'y_center': 0.834847, 'width': 0.100786, 'height': 0.106828}, {'class_id': 2, 'x_center': 0.0484639, 'y_center': 0.365539, 'width': 0.0939238, 'height': 0.11643}, {'class_id': 0, 'x_center': 0.338156, 'y_center': 0.904966, 'width': 0.211632, 'height': 0.190068}, {'class_id': 0, 'x_center': 0.196877, 'y_center': 0.152762, 'width': 0.217913, 'height': 0.208628}, {'class_id': 0, 'x_center': 0.250762, 'y_center': 0.553796, 'width': 0.218121, 'height': 0.211355}, {'class_id': 2, 'x_center': 0.442156, 'y_center': 0.13997, 'width': 0.100765, 'height': 0.109}, {'class_id': 2, 'x_center': 0.541458, 'y_center': 0.565645, 'width': 0.0992548, 'height': 0.105941}, {'class_id': 4, 'x_center': 0.828324, 'y_center': 0.593594, 'width': 0.226299, 'height': 0.267501}, {'class_id': 2, 'x_center': 0.936234, 'y_center': 0.199869, 'width': 0.083361, 'height': 0.101432}, {'class_id': 4, 'x_center': 0.687093, 'y_center': 0.135978, 'width': 0.220654, 'height': 0.243926}, {'class_id': 2, 'x_center': 0.604455, 'y_center': 0.834847, 'width': 0.100786, 'height': 0.106828}, {'class_id': 2, 'x_center': 0.0484639, 'y_center': 0.365539, 'width': 0.0939238, 'height': 0.11643}, {'class_id': 0, 'x_center': 0.338156, 'y_center': 0.904966, 'width': 0.211632, 'height': 0.190068}, {'class_id': 0, 'x_center': 0.196877, 'y_center': 0.152762, 'width': 0.217913, 'height': 0.208628}, {'class_id': 0, 'x_center': 0.250762, 'y_center': 0.553796, 'width': 0.218121, 'height': 0.211355}, {'class_id': 2, 'x_center': 0.442156, 'y_center': 0.13997, 'width': 0.100765, 'height': 0.109}, {'class_id': 2, 'x_center': 0.541458, 'y_center': 0.565645, 'width': 0.0992548, 'height': 0.105941}, {'class_id': 4, 'x_center': 0.828324, 'y_center': 0.593594, 'width': 0.226299, 'height': 0.267501}, {'class_id': 2, 'x_center': 0.936234, 'y_center': 0.199869, 'width': 0.083361, 'height': 0.101432}, {'class_id': 4, 'x_center': 0.687093, 'y_center': 0.135978, 'width': 0.220654, 'height': 0.243926}, {'class_id': 2, 'x_center': 0.604455, 'y_center': 0.834847, 'width': 0.100786, 'height': 0.106828}, {'class_id': 2, 'x_center': 0.0484639, 'y_center': 0.365539, 'width': 0.0939238, 'height': 0.11643}]\n",
      "[{'class_id': 0, 'coordinates': (0.338156, 0.904966, 0.211632, 0.190068), 'text': ['Writer', 'name', 'PK', 'birth_', 'date', 'talent_agency']}, {'class_id': 0, 'coordinates': (0.196877, 0.152762, 0.217913, 0.208628), 'text': ['TV Series', 'name', 'PK', 'network', 'production companies']}, {'class_id': 0, 'coordinates': (0.250762, 0.553796, 0.218121, 0.211355), 'text': ['Actor', 'name', 'PK', 'birth', 'date', 'nationality']}, {'class_id': 2, 'coordinates': (0.442156, 0.13997, 0.100765, 0.109), 'text': ['has']}, {'class_id': 2, 'coordinates': (0.541458, 0.565645, 0.0992548, 0.105941), 'text': ['guest star']}, {'class_id': 4, 'coordinates': (0.828324, 0.593594, 0.226299, 0.267501), 'text': ['Episode', 'PK', 'episode', 'number', 'title', 'length']}, {'class_id': 2, 'coordinates': (0.936234, 0.199869, 0.083361, 0.101432), 'text': ['has']}, {'class_id': 4, 'coordinates': (0.687093, 0.135978, 0.220654, 0.243926), 'text': ['Season', 'PK', 'season _', 'number', 'start_year', 'num_episodes']}, {'class_id': 2, 'coordinates': (0.604455, 0.834847, 0.100786, 0.106828), 'text': ['Writes']}, {'class_id': 2, 'coordinates': (0.0484639, 0.365539, 0.0939238, 0.11643), 'text': ['appears']}, {'class_id': 0, 'coordinates': (0.338156, 0.904966, 0.211632, 0.190068), 'text': ['Writer', 'name', 'PK', 'birth_', 'date', 'talent_agency']}, {'class_id': 0, 'coordinates': (0.196877, 0.152762, 0.217913, 0.208628), 'text': ['TV Series', 'name', 'PK', 'network', 'production companies']}, {'class_id': 0, 'coordinates': (0.250762, 0.553796, 0.218121, 0.211355), 'text': ['Actor', 'name', 'PK', 'birth', 'date', 'nationality']}, {'class_id': 2, 'coordinates': (0.442156, 0.13997, 0.100765, 0.109), 'text': ['has']}, {'class_id': 2, 'coordinates': (0.541458, 0.565645, 0.0992548, 0.105941), 'text': ['guest star']}, {'class_id': 4, 'coordinates': (0.828324, 0.593594, 0.226299, 0.267501), 'text': ['Episode', 'PK', 'episode', 'number', 'title', 'length']}, {'class_id': 2, 'coordinates': (0.936234, 0.199869, 0.083361, 0.101432), 'text': ['has']}, {'class_id': 4, 'coordinates': (0.687093, 0.135978, 0.220654, 0.243926), 'text': ['Season', 'PK', 'season _', 'number', 'start_year', 'num_episodes']}, {'class_id': 2, 'coordinates': (0.604455, 0.834847, 0.100786, 0.106828), 'text': ['Writes']}, {'class_id': 2, 'coordinates': (0.0484639, 0.365539, 0.0939238, 0.11643), 'text': ['appears']}, {'class_id': 0, 'coordinates': (0.338156, 0.904966, 0.211632, 0.190068), 'text': ['Writer', 'name', 'PK', 'birth_', 'date', 'talent_agency']}, {'class_id': 0, 'coordinates': (0.196877, 0.152762, 0.217913, 0.208628), 'text': ['TV Series', 'name', 'PK', 'network', 'production companies']}, {'class_id': 0, 'coordinates': (0.250762, 0.553796, 0.218121, 0.211355), 'text': ['Actor', 'name', 'PK', 'birth', 'date', 'nationality']}, {'class_id': 2, 'coordinates': (0.442156, 0.13997, 0.100765, 0.109), 'text': ['has']}, {'class_id': 2, 'coordinates': (0.541458, 0.565645, 0.0992548, 0.105941), 'text': ['guest star']}, {'class_id': 4, 'coordinates': (0.828324, 0.593594, 0.226299, 0.267501), 'text': ['Episode', 'PK', 'episode', 'number', 'title', 'length']}, {'class_id': 2, 'coordinates': (0.936234, 0.199869, 0.083361, 0.101432), 'text': ['has']}, {'class_id': 4, 'coordinates': (0.687093, 0.135978, 0.220654, 0.243926), 'text': ['Season', 'PK', 'season _', 'number', 'start_year', 'num_episodes']}, {'class_id': 2, 'coordinates': (0.604455, 0.834847, 0.100786, 0.106828), 'text': ['Writes']}, {'class_id': 2, 'coordinates': (0.0484639, 0.365539, 0.0939238, 0.11643), 'text': ['appears']}]\n",
      "OCR results for 6.png:\n",
      "Class ID: 0, Coordinates: (0.338156, 0.904966, 0.211632, 0.190068), Extracted Text: ['Writer', 'name', 'PK', 'birth_', 'date', 'talent_agency']\n",
      "Class ID: 0, Coordinates: (0.196877, 0.152762, 0.217913, 0.208628), Extracted Text: ['TV Series', 'name', 'PK', 'network', 'production companies']\n",
      "Class ID: 0, Coordinates: (0.250762, 0.553796, 0.218121, 0.211355), Extracted Text: ['Actor', 'name', 'PK', 'birth', 'date', 'nationality']\n",
      "Class ID: 2, Coordinates: (0.442156, 0.13997, 0.100765, 0.109), Extracted Text: ['has']\n",
      "Class ID: 2, Coordinates: (0.541458, 0.565645, 0.0992548, 0.105941), Extracted Text: ['guest star']\n",
      "Class ID: 4, Coordinates: (0.828324, 0.593594, 0.226299, 0.267501), Extracted Text: ['Episode', 'PK', 'episode', 'number', 'title', 'length']\n",
      "Class ID: 2, Coordinates: (0.936234, 0.199869, 0.083361, 0.101432), Extracted Text: ['has']\n",
      "Class ID: 4, Coordinates: (0.687093, 0.135978, 0.220654, 0.243926), Extracted Text: ['Season', 'PK', 'season _', 'number', 'start_year', 'num_episodes']\n",
      "Class ID: 2, Coordinates: (0.604455, 0.834847, 0.100786, 0.106828), Extracted Text: ['Writes']\n",
      "Class ID: 2, Coordinates: (0.0484639, 0.365539, 0.0939238, 0.11643), Extracted Text: ['appears']\n",
      "Class ID: 0, Coordinates: (0.338156, 0.904966, 0.211632, 0.190068), Extracted Text: ['Writer', 'name', 'PK', 'birth_', 'date', 'talent_agency']\n",
      "Class ID: 0, Coordinates: (0.196877, 0.152762, 0.217913, 0.208628), Extracted Text: ['TV Series', 'name', 'PK', 'network', 'production companies']\n",
      "Class ID: 0, Coordinates: (0.250762, 0.553796, 0.218121, 0.211355), Extracted Text: ['Actor', 'name', 'PK', 'birth', 'date', 'nationality']\n",
      "Class ID: 2, Coordinates: (0.442156, 0.13997, 0.100765, 0.109), Extracted Text: ['has']\n",
      "Class ID: 2, Coordinates: (0.541458, 0.565645, 0.0992548, 0.105941), Extracted Text: ['guest star']\n",
      "Class ID: 4, Coordinates: (0.828324, 0.593594, 0.226299, 0.267501), Extracted Text: ['Episode', 'PK', 'episode', 'number', 'title', 'length']\n",
      "Class ID: 2, Coordinates: (0.936234, 0.199869, 0.083361, 0.101432), Extracted Text: ['has']\n",
      "Class ID: 4, Coordinates: (0.687093, 0.135978, 0.220654, 0.243926), Extracted Text: ['Season', 'PK', 'season _', 'number', 'start_year', 'num_episodes']\n",
      "Class ID: 2, Coordinates: (0.604455, 0.834847, 0.100786, 0.106828), Extracted Text: ['Writes']\n",
      "Class ID: 2, Coordinates: (0.0484639, 0.365539, 0.0939238, 0.11643), Extracted Text: ['appears']\n",
      "Class ID: 0, Coordinates: (0.338156, 0.904966, 0.211632, 0.190068), Extracted Text: ['Writer', 'name', 'PK', 'birth_', 'date', 'talent_agency']\n",
      "Class ID: 0, Coordinates: (0.196877, 0.152762, 0.217913, 0.208628), Extracted Text: ['TV Series', 'name', 'PK', 'network', 'production companies']\n",
      "Class ID: 0, Coordinates: (0.250762, 0.553796, 0.218121, 0.211355), Extracted Text: ['Actor', 'name', 'PK', 'birth', 'date', 'nationality']\n",
      "Class ID: 2, Coordinates: (0.442156, 0.13997, 0.100765, 0.109), Extracted Text: ['has']\n",
      "Class ID: 2, Coordinates: (0.541458, 0.565645, 0.0992548, 0.105941), Extracted Text: ['guest star']\n",
      "Class ID: 4, Coordinates: (0.828324, 0.593594, 0.226299, 0.267501), Extracted Text: ['Episode', 'PK', 'episode', 'number', 'title', 'length']\n",
      "Class ID: 2, Coordinates: (0.936234, 0.199869, 0.083361, 0.101432), Extracted Text: ['has']\n",
      "Class ID: 4, Coordinates: (0.687093, 0.135978, 0.220654, 0.243926), Extracted Text: ['Season', 'PK', 'season _', 'number', 'start_year', 'num_episodes']\n",
      "Class ID: 2, Coordinates: (0.604455, 0.834847, 0.100786, 0.106828), Extracted Text: ['Writes']\n",
      "Class ID: 2, Coordinates: (0.0484639, 0.365539, 0.0939238, 0.11643), Extracted Text: ['appears']\n",
      "----------------------------------------\n",
      "/content/drive/MyDrive/cs478ModelTraining/gradescope_predictions_retrained_2nd_model/labels/\n",
      "7.txt\n",
      "/content/drive/MyDrive/cs478ModelTraining/gradescope_predictions_retrained_2nd_model/labels/7.txt\n",
      "[{'class_id': 4, 'x_center': 0.861901, 'y_center': 0.107839, 'width': 0.262645, 'height': 0.215678}, {'class_id': 2, 'x_center': 0.823109, 'y_center': 0.846051, 'width': 0.175894, 'height': 0.078327}, {'class_id': 0, 'x_center': 0.866886, 'y_center': 0.5357, 'width': 0.25437, 'height': 0.287983}, {'class_id': 0, 'x_center': 0.18594, 'y_center': 0.546705, 'width': 0.256371, 'height': 0.328256}, {'class_id': 2, 'x_center': 0.182385, 'y_center': 0.262092, 'width': 0.171723, 'height': 0.0790588}, {'class_id': 2, 'x_center': 0.540747, 'y_center': 0.489956, 'width': 0.169546, 'height': 0.0792432}, {'class_id': 2, 'x_center': 0.184814, 'y_center': 0.902501, 'width': 0.171943, 'height': 0.0790114}, {'class_id': 0, 'x_center': 0.540499, 'y_center': 0.899689, 'width': 0.258363, 'height': 0.194043}, {'class_id': 0, 'x_center': 0.187432, 'y_center': 0.0921347, 'width': 0.253567, 'height': 0.167488}, {'class_id': 1, 'x_center': 0.515916, 'y_center': 0.0749147, 'width': 0.208795, 'height': 0.110307}, {'class_id': 2, 'x_center': 0.516352, 'y_center': 0.0779872, 'width': 0.212773, 'height': 0.112099}, {'class_id': 4, 'x_center': 0.861901, 'y_center': 0.107839, 'width': 0.262645, 'height': 0.215678}, {'class_id': 2, 'x_center': 0.823109, 'y_center': 0.846051, 'width': 0.175894, 'height': 0.078327}, {'class_id': 0, 'x_center': 0.866886, 'y_center': 0.5357, 'width': 0.25437, 'height': 0.287983}, {'class_id': 0, 'x_center': 0.18594, 'y_center': 0.546705, 'width': 0.256371, 'height': 0.328256}, {'class_id': 2, 'x_center': 0.182385, 'y_center': 0.262092, 'width': 0.171723, 'height': 0.0790588}, {'class_id': 2, 'x_center': 0.540747, 'y_center': 0.489956, 'width': 0.169546, 'height': 0.0792432}, {'class_id': 2, 'x_center': 0.184814, 'y_center': 0.902501, 'width': 0.171943, 'height': 0.0790114}, {'class_id': 0, 'x_center': 0.540499, 'y_center': 0.899689, 'width': 0.258363, 'height': 0.194043}, {'class_id': 0, 'x_center': 0.187432, 'y_center': 0.0921347, 'width': 0.253567, 'height': 0.167488}, {'class_id': 1, 'x_center': 0.515916, 'y_center': 0.0749147, 'width': 0.208795, 'height': 0.110307}, {'class_id': 2, 'x_center': 0.516352, 'y_center': 0.0779872, 'width': 0.212773, 'height': 0.112099}, {'class_id': 4, 'x_center': 0.861901, 'y_center': 0.107839, 'width': 0.262645, 'height': 0.215678}, {'class_id': 2, 'x_center': 0.823109, 'y_center': 0.846051, 'width': 0.175894, 'height': 0.078327}, {'class_id': 0, 'x_center': 0.866886, 'y_center': 0.5357, 'width': 0.25437, 'height': 0.287983}, {'class_id': 0, 'x_center': 0.18594, 'y_center': 0.546705, 'width': 0.256371, 'height': 0.328256}, {'class_id': 2, 'x_center': 0.182385, 'y_center': 0.262092, 'width': 0.171723, 'height': 0.0790588}, {'class_id': 2, 'x_center': 0.540747, 'y_center': 0.489956, 'width': 0.169546, 'height': 0.0792432}, {'class_id': 2, 'x_center': 0.184814, 'y_center': 0.902501, 'width': 0.171943, 'height': 0.0790114}, {'class_id': 0, 'x_center': 0.540499, 'y_center': 0.899689, 'width': 0.258363, 'height': 0.194043}, {'class_id': 0, 'x_center': 0.187432, 'y_center': 0.0921347, 'width': 0.253567, 'height': 0.167488}, {'class_id': 1, 'x_center': 0.515916, 'y_center': 0.0749147, 'width': 0.208795, 'height': 0.110307}, {'class_id': 2, 'x_center': 0.516352, 'y_center': 0.0779872, 'width': 0.212773, 'height': 0.112099}]\n",
      "[{'class_id': 4, 'coordinates': (0.861901, 0.107839, 0.262645, 0.215678), 'text': ['region', 'PK', 'id', 'name', 'population']}, {'class_id': 2, 'coordinates': (0.823109, 0.846051, 0.175894, 0.078327), 'text': ['developed_by']}, {'class_id': 0, 'coordinates': (0.866886, 0.5357, 0.25437, 0.287983), 'text': ['platform', 'PK', 'platform', 'id', 'FK', 'developer_id', 'platform_', 'name', 'introductory_price', 'uS', 'units', 'sold']}, {'class_id': 0, 'coordinates': (0.18594, 0.546705, 0.256371, 0.328256), 'text': ['video_game', 'PK', 'rank', 'FK', 'platform', 'id', 'FK', 'publisher_id', 'name', 'year', 'genre']}, {'class_id': 2, 'coordinates': (0.182385, 0.262092, 0.171723, 0.0790588), 'text': ['sales_', 'in']}, {'class_id': 2, 'coordinates': (0.540747, 0.489956, 0.169546, 0.0792432), 'text': ['runs', 'on']}, {'class_id': 2, 'coordinates': (0.184814, 0.902501, 0.171943, 0.0790114), 'text': ['published_by']}, {'class_id': 0, 'coordinates': (0.540499, 0.899689, 0.258363, 0.194043), 'text': ['developer', 'PK', 'id', 'name', 'headquarters']}, {'class_id': 0, 'coordinates': (0.187432, 0.0921347, 0.253567, 0.167488), 'text': ['games', 'sales', 'PK', 'region_id, game_', 'rank', 'sales']}, {'class_id': 1, 'coordinates': (0.515916, 0.0749147, 0.208795, 0.110307), 'text': ['in_', 'region']}, {'class_id': 2, 'coordinates': (0.516352, 0.0779872, 0.212773, 0.112099), 'text': ['in_', '_region']}, {'class_id': 4, 'coordinates': (0.861901, 0.107839, 0.262645, 0.215678), 'text': ['region', 'PK', 'id', 'name', 'population']}, {'class_id': 2, 'coordinates': (0.823109, 0.846051, 0.175894, 0.078327), 'text': ['developed_by']}, {'class_id': 0, 'coordinates': (0.866886, 0.5357, 0.25437, 0.287983), 'text': ['platform', 'PK', 'platform', 'id', 'FK', 'developer_id', 'platform_', 'name', 'introductory_price', 'uS', 'units', 'sold']}, {'class_id': 0, 'coordinates': (0.18594, 0.546705, 0.256371, 0.328256), 'text': ['video_game', 'PK', 'rank', 'FK', 'platform', 'id', 'FK', 'publisher_id', 'name', 'year', 'genre']}, {'class_id': 2, 'coordinates': (0.182385, 0.262092, 0.171723, 0.0790588), 'text': ['sales_', 'in']}, {'class_id': 2, 'coordinates': (0.540747, 0.489956, 0.169546, 0.0792432), 'text': ['runs', 'on']}, {'class_id': 2, 'coordinates': (0.184814, 0.902501, 0.171943, 0.0790114), 'text': ['published_by']}, {'class_id': 0, 'coordinates': (0.540499, 0.899689, 0.258363, 0.194043), 'text': ['developer', 'PK', 'id', 'name', 'headquarters']}, {'class_id': 0, 'coordinates': (0.187432, 0.0921347, 0.253567, 0.167488), 'text': ['games', 'sales', 'PK', 'region_id, game_', 'rank', 'sales']}, {'class_id': 1, 'coordinates': (0.515916, 0.0749147, 0.208795, 0.110307), 'text': ['in_', 'region']}, {'class_id': 2, 'coordinates': (0.516352, 0.0779872, 0.212773, 0.112099), 'text': ['in_', '_region']}, {'class_id': 4, 'coordinates': (0.861901, 0.107839, 0.262645, 0.215678), 'text': ['region', 'PK', 'id', 'name', 'population']}, {'class_id': 2, 'coordinates': (0.823109, 0.846051, 0.175894, 0.078327), 'text': ['developed_by']}, {'class_id': 0, 'coordinates': (0.866886, 0.5357, 0.25437, 0.287983), 'text': ['platform', 'PK', 'platform', 'id', 'FK', 'developer_id', 'platform_', 'name', 'introductory_price', 'uS', 'units', 'sold']}, {'class_id': 0, 'coordinates': (0.18594, 0.546705, 0.256371, 0.328256), 'text': ['video_game', 'PK', 'rank', 'FK', 'platform', 'id', 'FK', 'publisher_id', 'name', 'year', 'genre']}, {'class_id': 2, 'coordinates': (0.182385, 0.262092, 0.171723, 0.0790588), 'text': ['sales_', 'in']}, {'class_id': 2, 'coordinates': (0.540747, 0.489956, 0.169546, 0.0792432), 'text': ['runs', 'on']}, {'class_id': 2, 'coordinates': (0.184814, 0.902501, 0.171943, 0.0790114), 'text': ['published_by']}, {'class_id': 0, 'coordinates': (0.540499, 0.899689, 0.258363, 0.194043), 'text': ['developer', 'PK', 'id', 'name', 'headquarters']}, {'class_id': 0, 'coordinates': (0.187432, 0.0921347, 0.253567, 0.167488), 'text': ['games', 'sales', 'PK', 'region_id, game_', 'rank', 'sales']}, {'class_id': 1, 'coordinates': (0.515916, 0.0749147, 0.208795, 0.110307), 'text': ['in_', 'region']}, {'class_id': 2, 'coordinates': (0.516352, 0.0779872, 0.212773, 0.112099), 'text': ['in_', '_region']}]\n",
      "OCR results for 7.png:\n",
      "Class ID: 4, Coordinates: (0.861901, 0.107839, 0.262645, 0.215678), Extracted Text: ['region', 'PK', 'id', 'name', 'population']\n",
      "Class ID: 2, Coordinates: (0.823109, 0.846051, 0.175894, 0.078327), Extracted Text: ['developed_by']\n",
      "Class ID: 0, Coordinates: (0.866886, 0.5357, 0.25437, 0.287983), Extracted Text: ['platform', 'PK', 'platform', 'id', 'FK', 'developer_id', 'platform_', 'name', 'introductory_price', 'uS', 'units', 'sold']\n",
      "Class ID: 0, Coordinates: (0.18594, 0.546705, 0.256371, 0.328256), Extracted Text: ['video_game', 'PK', 'rank', 'FK', 'platform', 'id', 'FK', 'publisher_id', 'name', 'year', 'genre']\n",
      "Class ID: 2, Coordinates: (0.182385, 0.262092, 0.171723, 0.0790588), Extracted Text: ['sales_in']\n",
      "Class ID: 2, Coordinates: (0.540747, 0.489956, 0.169546, 0.0792432), Extracted Text: ['runs on']\n",
      "Class ID: 2, Coordinates: (0.184814, 0.902501, 0.171943, 0.0790114), Extracted Text: ['published_by']\n",
      "Class ID: 0, Coordinates: (0.540499, 0.899689, 0.258363, 0.194043), Extracted Text: ['developer', 'PK', 'id', 'name', 'headquarters']\n",
      "Class ID: 0, Coordinates: (0.187432, 0.0921347, 0.253567, 0.167488), Extracted Text: ['games', 'sales', 'PK', 'region_id, game_', 'rank', 'sales']\n",
      "Class ID: 1, Coordinates: (0.515916, 0.0749147, 0.208795, 0.110307), Extracted Text: ['in_region']\n",
      "Class ID: 2, Coordinates: (0.516352, 0.0779872, 0.212773, 0.112099), Extracted Text: ['in_region']\n",
      "Class ID: 4, Coordinates: (0.861901, 0.107839, 0.262645, 0.215678), Extracted Text: ['region', 'PK', 'id', 'name', 'population']\n",
      "Class ID: 2, Coordinates: (0.823109, 0.846051, 0.175894, 0.078327), Extracted Text: ['developed_by']\n",
      "Class ID: 0, Coordinates: (0.866886, 0.5357, 0.25437, 0.287983), Extracted Text: ['platform', 'PK', 'platform', 'id', 'FK', 'developer_id', 'platform_', 'name', 'introductory_price', 'uS', 'units', 'sold']\n",
      "Class ID: 0, Coordinates: (0.18594, 0.546705, 0.256371, 0.328256), Extracted Text: ['video_game', 'PK', 'rank', 'FK', 'platform', 'id', 'FK', 'publisher_id', 'name', 'year', 'genre']\n",
      "Class ID: 2, Coordinates: (0.182385, 0.262092, 0.171723, 0.0790588), Extracted Text: ['sales_in']\n",
      "Class ID: 2, Coordinates: (0.540747, 0.489956, 0.169546, 0.0792432), Extracted Text: ['runs on']\n",
      "Class ID: 2, Coordinates: (0.184814, 0.902501, 0.171943, 0.0790114), Extracted Text: ['published_by']\n",
      "Class ID: 0, Coordinates: (0.540499, 0.899689, 0.258363, 0.194043), Extracted Text: ['developer', 'PK', 'id', 'name', 'headquarters']\n",
      "Class ID: 0, Coordinates: (0.187432, 0.0921347, 0.253567, 0.167488), Extracted Text: ['games', 'sales', 'PK', 'region_id, game_', 'rank', 'sales']\n",
      "Class ID: 1, Coordinates: (0.515916, 0.0749147, 0.208795, 0.110307), Extracted Text: ['in_region']\n",
      "Class ID: 2, Coordinates: (0.516352, 0.0779872, 0.212773, 0.112099), Extracted Text: ['in_region']\n",
      "Class ID: 4, Coordinates: (0.861901, 0.107839, 0.262645, 0.215678), Extracted Text: ['region', 'PK', 'id', 'name', 'population']\n",
      "Class ID: 2, Coordinates: (0.823109, 0.846051, 0.175894, 0.078327), Extracted Text: ['developed_by']\n",
      "Class ID: 0, Coordinates: (0.866886, 0.5357, 0.25437, 0.287983), Extracted Text: ['platform', 'PK', 'platform', 'id', 'FK', 'developer_id', 'platform_', 'name', 'introductory_price', 'uS', 'units', 'sold']\n",
      "Class ID: 0, Coordinates: (0.18594, 0.546705, 0.256371, 0.328256), Extracted Text: ['video_game', 'PK', 'rank', 'FK', 'platform', 'id', 'FK', 'publisher_id', 'name', 'year', 'genre']\n",
      "Class ID: 2, Coordinates: (0.182385, 0.262092, 0.171723, 0.0790588), Extracted Text: ['sales_in']\n",
      "Class ID: 2, Coordinates: (0.540747, 0.489956, 0.169546, 0.0792432), Extracted Text: ['runs on']\n",
      "Class ID: 2, Coordinates: (0.184814, 0.902501, 0.171943, 0.0790114), Extracted Text: ['published_by']\n",
      "Class ID: 0, Coordinates: (0.540499, 0.899689, 0.258363, 0.194043), Extracted Text: ['developer', 'PK', 'id', 'name', 'headquarters']\n",
      "Class ID: 0, Coordinates: (0.187432, 0.0921347, 0.253567, 0.167488), Extracted Text: ['games', 'sales', 'PK', 'region_id, game_', 'rank', 'sales']\n",
      "Class ID: 1, Coordinates: (0.515916, 0.0749147, 0.208795, 0.110307), Extracted Text: ['in_region']\n",
      "Class ID: 2, Coordinates: (0.516352, 0.0779872, 0.212773, 0.112099), Extracted Text: ['in_region']\n",
      "----------------------------------------\n",
      "/content/drive/MyDrive/cs478ModelTraining/gradescope_predictions_retrained_2nd_model/labels/\n",
      "8.txt\n",
      "/content/drive/MyDrive/cs478ModelTraining/gradescope_predictions_retrained_2nd_model/labels/8.txt\n",
      "[{'class_id': 2, 'x_center': 0.270707, 'y_center': 0.877179, 'width': 0.114667, 'height': 0.0997092}, {'class_id': 1, 'x_center': 0.709836, 'y_center': 0.18476, 'width': 0.114561, 'height': 0.101654}, {'class_id': 0, 'x_center': 0.486956, 'y_center': 0.359389, 'width': 0.167711, 'height': 0.220965}, {'class_id': 0, 'x_center': 0.497113, 'y_center': 0.879356, 'width': 0.193004, 'height': 0.241288}, {'class_id': 2, 'x_center': 0.498777, 'y_center': 0.622757, 'width': 0.114122, 'height': 0.100044}, {'class_id': 2, 'x_center': 0.272609, 'y_center': 0.389545, 'width': 0.109573, 'height': 0.0979323}, {'class_id': 0, 'x_center': 0.0804901, 'y_center': 0.663037, 'width': 0.16098, 'height': 0.240303}, {'class_id': 0, 'x_center': 0.914121, 'y_center': 0.17576, 'width': 0.171757, 'height': 0.141636}, {'class_id': 0, 'x_center': 0.488226, 'y_center': 0.101306, 'width': 0.160376, 'height': 0.202612}, {'class_id': 0, 'x_center': 0.914588, 'y_center': 0.151857, 'width': 0.170825, 'height': 0.197923}, {'class_id': 0, 'x_center': 0.487975, 'y_center': 0.23578, 'width': 0.160469, 'height': 0.47156}, {'class_id': 2, 'x_center': 0.270707, 'y_center': 0.877179, 'width': 0.114667, 'height': 0.0997092}, {'class_id': 1, 'x_center': 0.709836, 'y_center': 0.18476, 'width': 0.114561, 'height': 0.101654}, {'class_id': 0, 'x_center': 0.486956, 'y_center': 0.359389, 'width': 0.167711, 'height': 0.220965}, {'class_id': 0, 'x_center': 0.497113, 'y_center': 0.879356, 'width': 0.193004, 'height': 0.241288}, {'class_id': 2, 'x_center': 0.498777, 'y_center': 0.622757, 'width': 0.114122, 'height': 0.100044}, {'class_id': 2, 'x_center': 0.272609, 'y_center': 0.389545, 'width': 0.109573, 'height': 0.0979323}, {'class_id': 0, 'x_center': 0.0804901, 'y_center': 0.663037, 'width': 0.16098, 'height': 0.240303}, {'class_id': 0, 'x_center': 0.914121, 'y_center': 0.17576, 'width': 0.171757, 'height': 0.141636}, {'class_id': 0, 'x_center': 0.488226, 'y_center': 0.101306, 'width': 0.160376, 'height': 0.202612}, {'class_id': 0, 'x_center': 0.914588, 'y_center': 0.151857, 'width': 0.170825, 'height': 0.197923}, {'class_id': 0, 'x_center': 0.487975, 'y_center': 0.23578, 'width': 0.160469, 'height': 0.47156}, {'class_id': 2, 'x_center': 0.270707, 'y_center': 0.877179, 'width': 0.114667, 'height': 0.0997092}, {'class_id': 1, 'x_center': 0.709836, 'y_center': 0.18476, 'width': 0.114561, 'height': 0.101654}, {'class_id': 0, 'x_center': 0.486956, 'y_center': 0.359389, 'width': 0.167711, 'height': 0.220965}, {'class_id': 0, 'x_center': 0.497113, 'y_center': 0.879356, 'width': 0.193004, 'height': 0.241288}, {'class_id': 2, 'x_center': 0.498777, 'y_center': 0.622757, 'width': 0.114122, 'height': 0.100044}, {'class_id': 2, 'x_center': 0.272609, 'y_center': 0.389545, 'width': 0.109573, 'height': 0.0979323}, {'class_id': 0, 'x_center': 0.0804901, 'y_center': 0.663037, 'width': 0.16098, 'height': 0.240303}, {'class_id': 0, 'x_center': 0.914121, 'y_center': 0.17576, 'width': 0.171757, 'height': 0.141636}, {'class_id': 0, 'x_center': 0.488226, 'y_center': 0.101306, 'width': 0.160376, 'height': 0.202612}, {'class_id': 0, 'x_center': 0.914588, 'y_center': 0.151857, 'width': 0.170825, 'height': 0.197923}, {'class_id': 0, 'x_center': 0.487975, 'y_center': 0.23578, 'width': 0.160469, 'height': 0.47156}]\n",
      "[{'class_id': 2, 'coordinates': (0.270707, 0.877179, 0.114667, 0.0997092), 'text': ['develop']}, {'class_id': 1, 'coordinates': (0.709836, 0.18476, 0.114561, 0.101654), 'text': ['Sell']}, {'class_id': 0, 'coordinates': (0.486956, 0.359389, 0.167711, 0.220965), 'text': ['video_game', 'PK', 'rank', 'name', 'year', 'genre']}, {'class_id': 0, 'coordinates': (0.497113, 0.879356, 0.193004, 0.241288), 'text': ['platform', 'PK', 'platform_', 'id', 'platform', 'name', 'introductory_price_', 'uS', 'units', 'sold']}, {'class_id': 2, 'coordinates': (0.498777, 0.622757, 0.114122, 0.100044), 'text': ['Run on']}, {'class_id': 2, 'coordinates': (0.272609, 0.389545, 0.109573, 0.0979323), 'text': ['publish']}, {'class_id': 0, 'coordinates': (0.0804901, 0.663037, 0.16098, 0.240303), 'text': ['developer', 'PK', 'id', 'name', 'headquarter']}, {'class_id': 0, 'coordinates': (0.914121, 0.17576, 0.171757, 0.141636), 'text': ['games_sales', 'sales']}, {'class_id': 0, 'coordinates': (0.488226, 0.101306, 0.160376, 0.202612), 'text': ['region', 'PK', 'id', 'name', 'population']}, {'class_id': 0, 'coordinates': (0.914588, 0.151857, 0.170825, 0.197923), 'text': ['games_sales', 'sales']}, {'class_id': 0, 'coordinates': (0.487975, 0.23578, 0.160469, 0.47156), 'text': ['region', 'PK', 'id', 'name', 'population', 'video_game', 'PK', 'rank', 'name', 'year', 'genre']}, {'class_id': 2, 'coordinates': (0.270707, 0.877179, 0.114667, 0.0997092), 'text': ['develop']}, {'class_id': 1, 'coordinates': (0.709836, 0.18476, 0.114561, 0.101654), 'text': ['Sell']}, {'class_id': 0, 'coordinates': (0.486956, 0.359389, 0.167711, 0.220965), 'text': ['video_game', 'PK', 'rank', 'name', 'year', 'genre']}, {'class_id': 0, 'coordinates': (0.497113, 0.879356, 0.193004, 0.241288), 'text': ['platform', 'PK', 'platform_', 'id', 'platform', 'name', 'introductory_price_', 'uS', 'units', 'sold']}, {'class_id': 2, 'coordinates': (0.498777, 0.622757, 0.114122, 0.100044), 'text': ['Run on']}, {'class_id': 2, 'coordinates': (0.272609, 0.389545, 0.109573, 0.0979323), 'text': ['publish']}, {'class_id': 0, 'coordinates': (0.0804901, 0.663037, 0.16098, 0.240303), 'text': ['developer', 'PK', 'id', 'name', 'headquarter']}, {'class_id': 0, 'coordinates': (0.914121, 0.17576, 0.171757, 0.141636), 'text': ['games_sales', 'sales']}, {'class_id': 0, 'coordinates': (0.488226, 0.101306, 0.160376, 0.202612), 'text': ['region', 'PK', 'id', 'name', 'population']}, {'class_id': 0, 'coordinates': (0.914588, 0.151857, 0.170825, 0.197923), 'text': ['games_sales', 'sales']}, {'class_id': 0, 'coordinates': (0.487975, 0.23578, 0.160469, 0.47156), 'text': ['region', 'PK', 'id', 'name', 'population', 'video_game', 'PK', 'rank', 'name', 'year', 'genre']}, {'class_id': 2, 'coordinates': (0.270707, 0.877179, 0.114667, 0.0997092), 'text': ['develop']}, {'class_id': 1, 'coordinates': (0.709836, 0.18476, 0.114561, 0.101654), 'text': ['Sell']}, {'class_id': 0, 'coordinates': (0.486956, 0.359389, 0.167711, 0.220965), 'text': ['video_game', 'PK', 'rank', 'name', 'year', 'genre']}, {'class_id': 0, 'coordinates': (0.497113, 0.879356, 0.193004, 0.241288), 'text': ['platform', 'PK', 'platform_', 'id', 'platform', 'name', 'introductory_price_', 'uS', 'units', 'sold']}, {'class_id': 2, 'coordinates': (0.498777, 0.622757, 0.114122, 0.100044), 'text': ['Run on']}, {'class_id': 2, 'coordinates': (0.272609, 0.389545, 0.109573, 0.0979323), 'text': ['publish']}, {'class_id': 0, 'coordinates': (0.0804901, 0.663037, 0.16098, 0.240303), 'text': ['developer', 'PK', 'id', 'name', 'headquarter']}, {'class_id': 0, 'coordinates': (0.914121, 0.17576, 0.171757, 0.141636), 'text': ['games_sales', 'sales']}, {'class_id': 0, 'coordinates': (0.488226, 0.101306, 0.160376, 0.202612), 'text': ['region', 'PK', 'id', 'name', 'population']}, {'class_id': 0, 'coordinates': (0.914588, 0.151857, 0.170825, 0.197923), 'text': ['games_sales', 'sales']}, {'class_id': 0, 'coordinates': (0.487975, 0.23578, 0.160469, 0.47156), 'text': ['region', 'PK', 'id', 'name', 'population', 'video_game', 'PK', 'rank', 'name', 'year', 'genre']}]\n",
      "OCR results for 8.png:\n",
      "Class ID: 2, Coordinates: (0.270707, 0.877179, 0.114667, 0.0997092), Extracted Text: ['develop']\n",
      "Class ID: 1, Coordinates: (0.709836, 0.18476, 0.114561, 0.101654), Extracted Text: ['Sell']\n",
      "Class ID: 0, Coordinates: (0.486956, 0.359389, 0.167711, 0.220965), Extracted Text: ['video_game', 'PK', 'rank', 'name', 'year', 'genre']\n",
      "Class ID: 0, Coordinates: (0.497113, 0.879356, 0.193004, 0.241288), Extracted Text: ['platform', 'PK', 'platform_', 'id', 'platform', 'name', 'introductory_price_', 'uS', 'units', 'sold']\n",
      "Class ID: 2, Coordinates: (0.498777, 0.622757, 0.114122, 0.100044), Extracted Text: ['Run on']\n",
      "Class ID: 2, Coordinates: (0.272609, 0.389545, 0.109573, 0.0979323), Extracted Text: ['publish']\n",
      "Class ID: 0, Coordinates: (0.0804901, 0.663037, 0.16098, 0.240303), Extracted Text: ['developer', 'PK', 'id', 'name', 'headquarter']\n",
      "Class ID: 0, Coordinates: (0.914121, 0.17576, 0.171757, 0.141636), Extracted Text: ['games_sales', 'sales']\n",
      "Class ID: 0, Coordinates: (0.488226, 0.101306, 0.160376, 0.202612), Extracted Text: ['region', 'PK', 'id', 'name', 'population']\n",
      "Class ID: 0, Coordinates: (0.914588, 0.151857, 0.170825, 0.197923), Extracted Text: ['games_sales', 'sales']\n",
      "Class ID: 0, Coordinates: (0.487975, 0.23578, 0.160469, 0.47156), Extracted Text: ['region', 'PK', 'id', 'name', 'population', 'video_game', 'PK', 'rank', 'name', 'year', 'genre']\n",
      "Class ID: 2, Coordinates: (0.270707, 0.877179, 0.114667, 0.0997092), Extracted Text: ['develop']\n",
      "Class ID: 1, Coordinates: (0.709836, 0.18476, 0.114561, 0.101654), Extracted Text: ['Sell']\n",
      "Class ID: 0, Coordinates: (0.486956, 0.359389, 0.167711, 0.220965), Extracted Text: ['video_game', 'PK', 'rank', 'name', 'year', 'genre']\n",
      "Class ID: 0, Coordinates: (0.497113, 0.879356, 0.193004, 0.241288), Extracted Text: ['platform', 'PK', 'platform_', 'id', 'platform', 'name', 'introductory_price_', 'uS', 'units', 'sold']\n",
      "Class ID: 2, Coordinates: (0.498777, 0.622757, 0.114122, 0.100044), Extracted Text: ['Run on']\n",
      "Class ID: 2, Coordinates: (0.272609, 0.389545, 0.109573, 0.0979323), Extracted Text: ['publish']\n",
      "Class ID: 0, Coordinates: (0.0804901, 0.663037, 0.16098, 0.240303), Extracted Text: ['developer', 'PK', 'id', 'name', 'headquarter']\n",
      "Class ID: 0, Coordinates: (0.914121, 0.17576, 0.171757, 0.141636), Extracted Text: ['games_sales', 'sales']\n",
      "Class ID: 0, Coordinates: (0.488226, 0.101306, 0.160376, 0.202612), Extracted Text: ['region', 'PK', 'id', 'name', 'population']\n",
      "Class ID: 0, Coordinates: (0.914588, 0.151857, 0.170825, 0.197923), Extracted Text: ['games_sales', 'sales']\n",
      "Class ID: 0, Coordinates: (0.487975, 0.23578, 0.160469, 0.47156), Extracted Text: ['region', 'PK', 'id', 'name', 'population', 'video_game', 'PK', 'rank', 'name', 'year', 'genre']\n",
      "Class ID: 2, Coordinates: (0.270707, 0.877179, 0.114667, 0.0997092), Extracted Text: ['develop']\n",
      "Class ID: 1, Coordinates: (0.709836, 0.18476, 0.114561, 0.101654), Extracted Text: ['Sell']\n",
      "Class ID: 0, Coordinates: (0.486956, 0.359389, 0.167711, 0.220965), Extracted Text: ['video_game', 'PK', 'rank', 'name', 'year', 'genre']\n",
      "Class ID: 0, Coordinates: (0.497113, 0.879356, 0.193004, 0.241288), Extracted Text: ['platform', 'PK', 'platform_', 'id', 'platform', 'name', 'introductory_price_', 'uS', 'units', 'sold']\n",
      "Class ID: 2, Coordinates: (0.498777, 0.622757, 0.114122, 0.100044), Extracted Text: ['Run on']\n",
      "Class ID: 2, Coordinates: (0.272609, 0.389545, 0.109573, 0.0979323), Extracted Text: ['publish']\n",
      "Class ID: 0, Coordinates: (0.0804901, 0.663037, 0.16098, 0.240303), Extracted Text: ['developer', 'PK', 'id', 'name', 'headquarter']\n",
      "Class ID: 0, Coordinates: (0.914121, 0.17576, 0.171757, 0.141636), Extracted Text: ['games_sales', 'sales']\n",
      "Class ID: 0, Coordinates: (0.488226, 0.101306, 0.160376, 0.202612), Extracted Text: ['region', 'PK', 'id', 'name', 'population']\n",
      "Class ID: 0, Coordinates: (0.914588, 0.151857, 0.170825, 0.197923), Extracted Text: ['games_sales', 'sales']\n",
      "Class ID: 0, Coordinates: (0.487975, 0.23578, 0.160469, 0.47156), Extracted Text: ['region', 'PK', 'id', 'name', 'population', 'video_game', 'PK', 'rank', 'name', 'year', 'genre']\n",
      "----------------------------------------\n"
     ]
    }
   ],
   "source": [
    "prediction_files = [f for f in os.listdir(prediction_folder) if f.endswith('.txt')]\n",
    "j = 0\n",
    "for prediction_file in prediction_files:\n",
    "    prediction_file_path = os.path.join(prediction_folder, prediction_file)\n",
    "    print(prediction_folder)\n",
    "    print(prediction_file)\n",
    "    print(prediction_file_path)\n",
    "    image_file = prediction_file.replace('.txt', '.png')\n",
    "    image_path1 = os.path.join(image_folder, image_file)\n",
    "\n",
    "    if os.path.exists(image_path1):\n",
    "        image_dimensions = get_image_dimensions(image_path1)\n",
    "        if image_dimensions is None:\n",
    "            continue\n",
    "        image_width, image_height = image_dimensions\n",
    "\n",
    "        predictions = read_yolo_predictions(prediction_file_path)\n",
    "\n",
    "        image = cv2.imread(image_path1)\n",
    "\n",
    "        ocr_results = []\n",
    "\n",
    "        i = 0\n",
    "        # Iterate over all predictions and crop based on bounding boxes\n",
    "        print(predictions)\n",
    "        for prediction in predictions:\n",
    "            x_center = prediction['x_center']\n",
    "            y_center = prediction['y_center']\n",
    "            width = prediction['width']\n",
    "            height = prediction['height']\n",
    "\n",
    "            # Step 1: Crop the image based on YOLO bounding boxes\n",
    "            cropped_image1 = crop_image_using_yolo(image, x_center, y_center, width, height, image_width, image_height)\n",
    "\n",
    "            # Step 2: Apply OCR on the cropped image\n",
    "            text = ocr_on_cropped_image(cropped_image1)\n",
    "\n",
    "            ocr_results.append({\n",
    "                'class_id': prediction['class_id'],\n",
    "                'coordinates': (x_center, y_center, width, height),\n",
    "                'text': text\n",
    "            })\n",
    "\n",
    "            i = i + 1\n",
    "\n",
    "        j = j + 1\n",
    "\n",
    "        # 1. Create a new file with image_file name replaced with .txt at end and save it into results_folder\n",
    "        result_file_name = image_file.replace('.png', '.txt')\n",
    "        result_file_path = os.path.join(results_folder, result_file_name)\n",
    "        print(ocr_results)\n",
    "        with open(result_file_path, 'w') as file:\n",
    "          print(f\"OCR results for {image_file}:\")\n",
    "          for result in ocr_results:\n",
    "              # get the class label as text from the map\n",
    "              class_label = class_id_to_label.get(result['class_id'], 'unknown')\n",
    "\n",
    "              # POST PROCESSING STEP 1 --> remove leading and trailing white spaces\n",
    "              result['text'] = [text.strip() for text in result['text']]\n",
    "\n",
    "              # POST PROCESSING STEP 2 --> if a rel, rel_attr or ident_rel got split into 2 words, combine into one\n",
    "              if ((class_label == \"rel\" or class_label == \"rel_attr\" or class_label == \"ident_rel\") and (len(result['text']) > 1)):\n",
    "                  final_string = result['text'][0]\n",
    "                  for text in result['text'][1:]:\n",
    "                    # if previous word ends with - or _ OR current word starts with those\n",
    "                    if (final_string and text and (final_string[-1] == '_' or final_string[-1] == '-' or text[0] == '_' or text[0] == '-')):\n",
    "                      # if previous ends with _ or - and current starts with that\n",
    "                      if ((final_string[-1] == '_' and text[0] == '_') or (final_string[-1] == '-' and text[0] == '-')):\n",
    "                        # don't double count the - or _\n",
    "                        final_string = final_string + text[1:]\n",
    "                      else:\n",
    "                        final_string = final_string + text\n",
    "                    else:\n",
    "                      final_string = final_string + \" \" + text\n",
    "\n",
    "                  result['text'] = [final_string]\n",
    "\n",
    "              # format the final text\n",
    "              formatted_text = f\"['{class_label}', \" + \", \".join(f\"'{text}'\" for text in result['text']) + \"]\\n\"\n",
    "              # write the final results to the file\n",
    "              file.write(formatted_text)\n",
    "\n",
    "              print(f\"Class ID: {result['class_id']}, Coordinates: {result['coordinates']}, Extracted Text: {result['text']}\")\n",
    "          print(\"-\" * 40)\n",
    "    else:\n",
    "        print(f\"Image not found for {prediction_file}\")"
   ]
  }
 ],
 "metadata": {
  "colab": {
   "provenance": [
    {
     "file_id": "1FiAR_v0nYnHR67dngZGrMALujWxluNnt",
     "timestamp": 1725749361060
    }
   ]
  },
  "kernelspec": {
   "display_name": "Python 3",
   "name": "python3"
  },
  "language_info": {
   "name": "python"
  }
 },
 "nbformat": 4,
 "nbformat_minor": 0
}
